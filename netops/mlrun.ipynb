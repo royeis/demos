{
 "cells": [
  {
   "cell_type": "markdown",
   "metadata": {},
   "source": [
    "# Network Operations\n",
    "## MLRun - Running notebook"
   ]
  },
  {
   "cell_type": "markdown",
   "metadata": {},
   "source": [
    "We start by importing the `MLRun` functions we need to run the functions."
   ]
  },
  {
   "cell_type": "code",
   "execution_count": 97,
   "metadata": {},
   "outputs": [],
   "source": [
    "from mlrun import code_to_function, mlconf, new_model_server\n",
    "import os\n",
    "\n",
    "# for local DB path use '/User/mlrun' instead \n",
    "mlconf.dbpath = 'http://mlrun-api:8080'"
   ]
  },
  {
   "cell_type": "code",
   "execution_count": 45,
   "metadata": {},
   "outputs": [],
   "source": [
    "import datetime"
   ]
  },
  {
   "cell_type": "markdown",
   "metadata": {},
   "source": [
    "## Define functions for pipeline"
   ]
  },
  {
   "cell_type": "code",
   "execution_count": 82,
   "metadata": {
    "collapsed": true,
    "jupyter": {
     "outputs_hidden": true
    }
   },
   "outputs": [
    {
     "name": "stdout",
     "output_type": "stream",
     "text": [
      "kind: remote\n",
      "metadata:\n",
      "  name: generator\n",
      "  tag: ''\n",
      "  project: ''\n",
      "  labels:\n",
      "    filename: nuclio-generator.ipynb\n",
      "    repo: http://github.com/mlrun/demos\n",
      "    commit: 00451b64816a2ab32d2b4b5307f1dd3c80c2d4e6\n",
      "spec:\n",
      "  command: ''\n",
      "  args: []\n",
      "  image: ''\n",
      "  description: ''\n",
      "  volumes:\n",
      "  - flexVolume:\n",
      "      driver: v3io/fuse\n",
      "      options:\n",
      "        accessKey: 275eeda5-5d83-427e-adda-ddb469370fb5\n",
      "        container: users\n",
      "        subPath: /admin\n",
      "    name: fs\n",
      "  volume_mounts:\n",
      "  - name: fs\n",
      "    mountPath: User\n",
      "  env:\n",
      "  - !!python/object:kubernetes.client.models.v1_env_var.V1EnvVar\n",
      "    _name: initial_timestamp\n",
      "    _value: 1577089586\n",
      "    _value_from: null\n",
      "    discriminator: null\n",
      "  build_commands: []\n",
      "  base_spec:\n",
      "    apiVersion: nuclio.io/v1\n",
      "    kind: Function\n",
      "    metadata:\n",
      "      annotations:\n",
      "        nuclio.io/generated_by: function generated at 24-12-2019 by admin from nuclio-generator.ipynb\n",
      "      labels: {}\n",
      "      name: generator\n",
      "    spec:\n",
      "      build:\n",
      "        baseImage: python:3.6-jessie\n",
      "        commands:\n",
      "        - pip install pyarrow\n",
      "        - pip install pyyaml --upgrade\n",
      "        - pip install pandas\n",
      "        - pip install pytimeparse\n",
      "        - pip install v3io_frames --upgrade\n",
      "        - pip install -i https://test.pypi.org/simple/ v3io-generator\n",
      "        - pip install faker\n",
      "        functionSourceCode: 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\n",
      "        noBaseImagesPull: true\n",
      "      env:\n",
      "      - name: METRICS_CONFIGURATION_FILEPATH\n",
      "        value: /User/mlrun-demos/demos/netops/configurations/metrics-configuration.yaml\n",
      "      - name: V3IO_FRAMESD\n",
      "        value: framesd.default-tenant.svc:8080\n",
      "      - name: V3IO_USERNAME\n",
      "        value: admin\n",
      "      - name: V3IO_ACCESS_KEY\n",
      "        value: 275eeda5-5d83-427e-adda-ddb469370fb5\n",
      "      - name: V3IO_API\n",
      "        value: v3io-webapi.default-tenant.svc:8081\n",
      "      - name: SAVE_DEPLOYMENT\n",
      "        value: '1'\n",
      "      - name: DEPLOYMENT_TABLE\n",
      "        value: netops_devices\n",
      "      - name: SAVE_TO\n",
      "        value: /v3io/bigdata/netops_metrics_parquet\n",
      "      - name: SECS_TO_GENERATE\n",
      "        value: '3600'\n",
      "      - name: SAVE_TO_TSDB\n",
      "        value: '0'\n",
      "      handler: nuclio-generator:handler\n",
      "      runtime: python:3.6\n",
      "      triggers:\n",
      "        secs:\n",
      "          attributes:\n",
      "            interval: 10s\n",
      "          kind: cron\n",
      "      volumes:\n",
      "      - volume:\n",
      "          flexVolume:\n",
      "            driver: v3io/fuse\n",
      "            options:\n",
      "              accessKey: 275eeda5-5d83-427e-adda-ddb469370fb5\n",
      "              container: users\n",
      "              subPath: /admin/\n",
      "          name: fs\n",
      "        volumeMount:\n",
      "          mountPath: /User\n",
      "          name: fs\n",
      "  source: ''\n",
      "\n"
     ]
    }
   ],
   "source": [
    "generator_fn = code_to_function(name='generator',\n",
    "                                runtime='nuclio',\n",
    "                                filename='nuclio-generator.ipynb')\n",
    "generator_fn.add_volume('User','~/')\n",
    "generator_fn.set_env('initial_timestamp', int((datetime.datetime.now()-datetime.timedelta(days=1)).timestamp()))\n",
    "print(generator_fn.to_yaml())"
   ]
  },
  {
   "cell_type": "code",
   "execution_count": 81,
   "metadata": {},
   "outputs": [
    {
     "name": "stdout",
     "output_type": "stream",
     "text": [
      "[mlrun] 2019-12-24 08:25:44,637 deploy started\n",
      "[nuclio.deploy] 2019-12-24 08:25:45,714 (info) Building processor image\n"
     ]
    },
    {
     "name": "stderr",
     "output_type": "stream",
     "text": [
      "INFO:nuclio.deploy:(info) Building processor image\n"
     ]
    },
    {
     "name": "stdout",
     "output_type": "stream",
     "text": [
      "[nuclio.deploy] 2019-12-24 08:25:45,715 (info) Build complete\n"
     ]
    },
    {
     "name": "stderr",
     "output_type": "stream",
     "text": [
      "INFO:nuclio.deploy:(info) Build complete\n"
     ]
    },
    {
     "name": "stdout",
     "output_type": "stream",
     "text": [
      "[nuclio.deploy] 2019-12-24 08:25:51,836 (info) Function deploy complete\n"
     ]
    },
    {
     "name": "stderr",
     "output_type": "stream",
     "text": [
      "INFO:nuclio.deploy:(info) Function deploy complete\n"
     ]
    },
    {
     "name": "stdout",
     "output_type": "stream",
     "text": [
      "[nuclio.deploy] 2019-12-24 08:25:51,841 done updating generator, function address: 3.18.11.15:30541\n"
     ]
    },
    {
     "name": "stderr",
     "output_type": "stream",
     "text": [
      "INFO:nuclio.deploy:done updating generator, function address: 3.18.11.15:30541\n"
     ]
    },
    {
     "data": {
      "text/plain": [
       "'http://3.18.11.15:30541'"
      ]
     },
     "execution_count": 81,
     "metadata": {},
     "output_type": "execute_result"
    }
   ],
   "source": [
    "generator_fn.deploy(project='netops')"
   ]
  },
  {
   "cell_type": "code",
   "execution_count": 88,
   "metadata": {
    "collapsed": true,
    "jupyter": {
     "outputs_hidden": true
    }
   },
   "outputs": [
    {
     "name": "stdout",
     "output_type": "stream",
     "text": [
      "kind: remote\n",
      "metadata:\n",
      "  name: preprocessing\n",
      "  tag: ''\n",
      "  project: ''\n",
      "  labels:\n",
      "    filename: nuclio-data-preperations.ipynb\n",
      "    repo: http://github.com/mlrun/demos\n",
      "    commit: 00451b64816a2ab32d2b4b5307f1dd3c80c2d4e6\n",
      "spec:\n",
      "  command: ''\n",
      "  args: []\n",
      "  image: ''\n",
      "  description: ''\n",
      "  volumes:\n",
      "  - flexVolume:\n",
      "      driver: v3io/fuse\n",
      "      options:\n",
      "        accessKey: 275eeda5-5d83-427e-adda-ddb469370fb5\n",
      "        container: users\n",
      "        subPath: /admin\n",
      "    name: fs\n",
      "  volume_mounts:\n",
      "  - name: fs\n",
      "    mountPath: User\n",
      "  env:\n",
      "  - !!python/object:kubernetes.client.models.v1_env_var.V1EnvVar\n",
      "    _name: metrics_table\n",
      "    _value: /v3io/bigdata/netops_metrics_parquet\n",
      "    _value_from: null\n",
      "    discriminator: null\n",
      "  - !!python/object:kubernetes.client.models.v1_env_var.V1EnvVar\n",
      "    _name: features_table\n",
      "    _value: /v3io/bigdata/netops_metrics_parquet\n",
      "    _value_from: null\n",
      "    discriminator: null\n",
      "  build_commands: []\n",
      "  base_spec:\n",
      "    apiVersion: nuclio.io/v1\n",
      "    kind: Function\n",
      "    metadata:\n",
      "      annotations:\n",
      "        nuclio.io/generated_by: function generated at 24-12-2019 by admin from nuclio-data-preperations.ipynb\n",
      "      labels: {}\n",
      "      name: preprocessing\n",
      "    spec:\n",
      "      build:\n",
      "        baseImage: python:3.6-jessie\n",
      "        commands:\n",
      "        - pip install pyarrow\n",
      "        - pip install pandas\n",
      "        - pip install v3io_frames --upgrade\n",
      "        - pip install dask[\"complete\"]\n",
      "        - pip install 'fsspec>=0.3.3'\n",
      "        functionSourceCode: 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\n",
      "        noBaseImagesPull: true\n",
      "      env:\n",
      "      - name: V3IO_FRAMESD\n",
      "        value: framesd.default-tenant.svc:8080\n",
      "      - name: V3IO_USERNAME\n",
      "        value: admin\n",
      "      - name: V3IO_ACCESS_KEY\n",
      "        value: 275eeda5-5d83-427e-adda-ddb469370fb5\n",
      "      - name: SAVE_TO_TSDB\n",
      "        value: '0'\n",
      "      - name: metrics_table\n",
      "        value: /v3io/bigdata/netops_metrics_parquet\n",
      "      - name: features_table\n",
      "        value: /v3io/bigdata/netops_features_parquet\n",
      "      - name: NUMBER_OF_SHARDS\n",
      "        value: '4'\n",
      "      handler: nuclio-data-preperations:handler\n",
      "      runtime: python:3.6\n",
      "      triggers:\n",
      "        retrain:\n",
      "          attributes:\n",
      "            interval: 1h\n",
      "          kind: cron\n",
      "      volumes: []\n",
      "  source: ''\n",
      "\n"
     ]
    }
   ],
   "source": [
    "preprocessing_fn = code_to_function(name='preprocessing',\n",
    "                                    runtime='nuclio',\n",
    "                                    filename='nuclio-data-preperations.ipynb')\n",
    "preprocessing_fn.add_volume('User','~/')\n",
    "preprocessing_fn.set_env('metrics_table', '/v3io/bigdata/netops_metrics_parquet')\n",
    "preprocessing_fn.set_env('features_table', '/v3io/bigdata/netops_metrics_parquet')\n",
    "print(preprocessing_fn.to_yaml())"
   ]
  },
  {
   "cell_type": "code",
   "execution_count": 89,
   "metadata": {},
   "outputs": [
    {
     "name": "stdout",
     "output_type": "stream",
     "text": [
      "[mlrun] 2019-12-24 08:40:15,568 deploy started\n",
      "[nuclio.deploy] 2019-12-24 08:40:16,640 (info) Building processor image\n"
     ]
    },
    {
     "name": "stderr",
     "output_type": "stream",
     "text": [
      "INFO:nuclio.deploy:(info) Building processor image\n"
     ]
    },
    {
     "name": "stdout",
     "output_type": "stream",
     "text": [
      "[nuclio.deploy] 2019-12-24 08:40:18,661 (info) Build complete\n"
     ]
    },
    {
     "name": "stderr",
     "output_type": "stream",
     "text": [
      "INFO:nuclio.deploy:(info) Build complete\n"
     ]
    },
    {
     "name": "stdout",
     "output_type": "stream",
     "text": [
      "[nuclio.deploy] 2019-12-24 08:40:24,713 (info) Function deploy complete\n"
     ]
    },
    {
     "name": "stderr",
     "output_type": "stream",
     "text": [
      "INFO:nuclio.deploy:(info) Function deploy complete\n"
     ]
    },
    {
     "name": "stdout",
     "output_type": "stream",
     "text": [
      "[nuclio.deploy] 2019-12-24 08:40:24,718 done updating preprocessing, function address: 3.18.11.15:31192\n"
     ]
    },
    {
     "name": "stderr",
     "output_type": "stream",
     "text": [
      "INFO:nuclio.deploy:done updating preprocessing, function address: 3.18.11.15:31192\n"
     ]
    },
    {
     "data": {
      "text/plain": [
       "'http://3.18.11.15:31192'"
      ]
     },
     "execution_count": 89,
     "metadata": {},
     "output_type": "execute_result"
    }
   ],
   "source": [
    "preprocessing_fn.deploy(project='netops')"
   ]
  },
  {
   "cell_type": "code",
   "execution_count": 94,
   "metadata": {},
   "outputs": [
    {
     "name": "stdout",
     "output_type": "stream",
     "text": [
      "kind: remote\n",
      "metadata:\n",
      "  name: training\n",
      "  tag: ''\n",
      "  project: ''\n",
      "  labels:\n",
      "    filename: nuclio-training.ipynb\n",
      "    repo: http://github.com/mlrun/demos\n",
      "    commit: 00451b64816a2ab32d2b4b5307f1dd3c80c2d4e6\n",
      "spec:\n",
      "  command: ''\n",
      "  args: []\n",
      "  image: ''\n",
      "  description: ''\n",
      "  volumes:\n",
      "  - flexVolume:\n",
      "      driver: v3io/fuse\n",
      "      options:\n",
      "        accessKey: 275eeda5-5d83-427e-adda-ddb469370fb5\n",
      "        container: users\n",
      "        subPath: /admin\n",
      "    name: fs\n",
      "  volume_mounts:\n",
      "  - name: fs\n",
      "    mountPath: User\n",
      "  env: []\n",
      "  build_commands: []\n",
      "  base_spec:\n",
      "    apiVersion: nuclio.io/v1\n",
      "    kind: Function\n",
      "    metadata:\n",
      "      annotations:\n",
      "        nuclio.io/generated_by: function generated at 24-12-2019 by admin from nuclio-training.ipynb\n",
      "      labels: {}\n",
      "      name: training\n",
      "    spec:\n",
      "      build:\n",
      "        baseImage: python:3.6-jessie\n",
      "        commands:\n",
      "        - pip install pyyaml\n",
      "        - pip install pyarrow\n",
      "        - pip install pandas\n",
      "        - pip install v3io_frames --upgrade\n",
      "        - pip install scikit-learn==0.20.1\n",
      "        - pip install xgboost==0.90 --upgrade\n",
      "        - pip install dask[\"complete\"] --upgrade\n",
      "        - pip install dask-ml[\"complete\"] --upgrade\n",
      "        functionSourceCode: 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\n",
      "        noBaseImagesPull: true\n",
      "      env:\n",
      "      - name: V3IO_FRAMESD\n",
      "        value: framesd.default-tenant.svc:8080\n",
      "      - name: V3IO_USERNAME\n",
      "        value: admin\n",
      "      - name: V3IO_ACCESS_KEY\n",
      "        value: 275eeda5-5d83-427e-adda-ddb469370fb5\n",
      "      - name: V3IO_API\n",
      "        value: v3io-webapi.default-tenant.svc:8081\n",
      "      - name: FEATURES_TABLE\n",
      "        value: /v3io/bigdata/netops_features_parquet\n",
      "      - name: FROM_TSDB\n",
      "        value: '0'\n",
      "      - name: TRAIN_ON_LAST\n",
      "        value: 1d\n",
      "      - name: TRAIN_SIZE\n",
      "        value: '0.7'\n",
      "      - name: NUMBER_OF_SHARDS\n",
      "        value: '4'\n",
      "      - name: MODEL_FILENAME\n",
      "        value: netops.v3.model\n",
      "      - name: SAVE_TO\n",
      "        value: /v3io/bigdata/netops/models\n",
      "      handler: nuclio-training:handler\n",
      "      runtime: python:3.6\n",
      "      triggers:\n",
      "        retrain:\n",
      "          attributes:\n",
      "            interval: 1h\n",
      "          kind: cron\n",
      "      volumes: []\n",
      "  source: ''\n",
      "\n"
     ]
    }
   ],
   "source": [
    "training_fn = code_to_function(name='training',\n",
    "                                    runtime='nuclio',\n",
    "                                    filename='nuclio-training.ipynb')\n",
    "training_fn.add_volume('User','~/')\n",
    "print(training_fn.to_yaml())"
   ]
  },
  {
   "cell_type": "code",
   "execution_count": 95,
   "metadata": {},
   "outputs": [
    {
     "name": "stdout",
     "output_type": "stream",
     "text": [
      "[mlrun] 2019-12-24 08:53:25,158 deploy started\n",
      "[nuclio.deploy] 2019-12-24 08:53:26,238 (info) Building processor image\n"
     ]
    },
    {
     "name": "stderr",
     "output_type": "stream",
     "text": [
      "INFO:nuclio.deploy:(info) Building processor image\n"
     ]
    },
    {
     "name": "stdout",
     "output_type": "stream",
     "text": [
      "[nuclio.deploy] 2019-12-24 08:54:52,958 (info) Build complete\n"
     ]
    },
    {
     "name": "stderr",
     "output_type": "stream",
     "text": [
      "INFO:nuclio.deploy:(info) Build complete\n"
     ]
    },
    {
     "name": "stdout",
     "output_type": "stream",
     "text": [
      "[nuclio.deploy] 2019-12-24 08:55:55,497 (warn) Create function failed, setting function status\n"
     ]
    },
    {
     "name": "stderr",
     "output_type": "stream",
     "text": [
      "INFO:nuclio.deploy:(warn) Create function failed, setting function status\n"
     ]
    },
    {
     "name": "stdout",
     "output_type": "stream",
     "text": [
      "[nuclio.deploy] 2019-12-24 08:55:55,498 \n",
      "Error - NuclioFunction in error state (\n",
      "Error - context deadline exceeded\n",
      "    .../platform/kube/controller/nucliofunction.go:122\n",
      "\n",
      "Call stack:\n",
      "Failed to wait for function resources to be available\n",
      "    .../platform/kube/controller/nucliofunction.go:122\n",
      ")\n",
      "    .../nuclio/nuclio/pkg/platform/kube/deployer.go:197\n",
      "\n",
      "Call stack:\n",
      "NuclioFunction in error state (\n",
      "Error - context deadline exceeded\n",
      "    .../platform/kube/controller/nucliofunction.go:122\n",
      "\n",
      "Call stack:\n",
      "Failed to wait for function resources to be available\n",
      "    .../platform/kube/controller/nucliofunction.go:122\n",
      ")\n",
      "    .../nuclio/nuclio/pkg/platform/kube/deployer.go:197\n",
      "Failed to wait for function readiness.\n",
      "\n",
      "Pod logs:\n",
      "\n",
      "* training-5b9df8f7-2c2bj\n",
      "{\"level\":\"debug\",\"time\":\"2019-12-24T08:53:07.550Z\",\"name\":\"processor\",\"message\":\"Read configuration\",\"more\":\"config=&{Config:{Meta:{Name:training Namespace:default-tenant Labels:map[] Annotations:map[nuclio.io/generated_by:function generated at 24-12-2019 by admin from nuclio-training.ipynb]} Spec:{Description: Disabled:false Publish:false Handler:nuclio-training:handler Runtime:python:3.6 Env:[{Name:V3IO_FRAMESD Value:framesd.default-tenant.svc:8080 ValueFrom:nil} {Name:V3IO_USERNAME Value:admin ValueFrom:nil} {Name:V3IO_ACCESS_KEY Value:275eeda5-5d83-427e-adda-ddb469370fb5 ValueFrom:nil} {Name:FEATURES_TABLE Value:/v3io/bigdata/netops_features_parquet ValueFrom:nil} {Name:FROM_TSDB Value:0 ValueFrom:nil} {Name:TRAIN_ON_LAST Value:1d ValueFrom:nil} {Name:TRAIN_SIZE Value:0.7 ValueFrom:nil} {Name:NUMBER_OF_SHARDS Value:4 ValueFrom:nil} {Name:MODEL_FILENAME Value:netops.v3.model ValueFrom:nil} {Name:SAVE_TO Value:/v3io/bigdata/netops/models ValueFrom:nil}] Resources:{Limits:map[] Requests:map[]} Image:docker-registry.default-tenant.app.spjxothqybjz.iguazio-cd2.com:80/nuclio/processor-training:latest ImageHash:1577177314140808083 Replicas:<nil> MinReplicas:<nil> MaxReplicas:<nil> TargetCPU:0 DataBindings:map[] Triggers:map[retrain:{Class: Kind:cron Disabled:false MaxWorkers:0 URL: Paths:[] Username: Password: Secret: Partitions:[] Annotations:map[] WorkerAvailabilityTimeoutMilliseconds:0 WorkerAllocatorName: TotalTasks:0 MaxTaskAllocation:0 Attributes:map[interval:1h]}] Volumes:[{Volume:{Name:fs VolumeSource:{HostPath:nil EmptyDir:nil GCEPersistentDisk:nil AWSElasticBlockStore:nil GitRepo:nil Secret:nil NFS:nil ISCSI:nil Glusterfs:nil PersistentVolumeClaim:nil RBD:nil FlexVolume:&FlexVolumeSource{Driver:v3io/fuse,FSType:,SecretRef:nil,ReadOnly:false,Options:map[string]string{accessKey: 275eeda5-5d83-427e-adda-ddb469370fb5,container: users,subPath: /admin,},} Cinder:nil CephFS:nil Flocker:nil DownwardAPI:nil FC:nil AzureFile:nil ConfigMap:nil VsphereVolume:nil Quobyte:nil AzureDisk:nil PhotonPersistentDisk:nil Projected:nil PortworxVolume:nil ScaleIO:nil StorageOS:nil}} VolumeMount:{Name:fs ReadOnly:false MountPath:User SubPath: MountPropagation:<nil>}}] Version:-1 Alias:latest Build:{Path: FunctionSourceCode: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 FunctionConfigPath: TempDir: Registry:docker-registry.default-tenant.app.spjxothqybjz.iguazio-cd2.com:80 Image: NoBaseImagesPull:true NoCache:false NoCleanup:false BaseImage:python:3.6-jessie Commands:[pip install pyyaml pip install pyarrow pip install pandas pip install v3io_frames --upgrade pip install scikit-learn==0.20.1 pip install xgboost --upgrade pip install dask[\\\"complete\\\"] --upgrade pip install dask-ml[\\\"complete\\\"] --upgrade] Directives:map[] ScriptPaths:[] AddedObjectPaths:map[] Dependencies:[] OnbuildImage: Offline:true RuntimeAttributes:map[] CodeEntryType:sourceCode CodeEntryAttributes:map[] Timestamp:1577177316 Mode:} RunRegistry:docker-registry.default-tenant.app.spjxothqybjz.iguazio-cd2.com:80 RuntimeAttributes:map[] LoggerSinks:[] DealerURI: Platform:{Attributes:map[]} ReadinessTimeoutSeconds:0 Avatar: ServiceType:NodePort ImagePullPolicy: ServiceAccount: EventTimeout:}} PlatformConfig:<nil>} || platformConfig=&{Kind:kube WebAdmin:{Enabled:<nil> ListenAddress:} HealthCheck:{Enabled:<nil> ListenAddress:} Logger:{Sinks:map[myStdoutLoggerSink:{Kind:stdout URL: Attributes:map[encoding:json timeFieldEncoding:iso8601 timeFieldName:time varGroupName:more]}] System:[{Level:debug Sink:myStdoutLoggerSink}] Functions:[{Level:debug Sink:myStdoutLoggerSink}]} Metrics:{Sinks:map[myPrometheusPull:{Enabled:<nil> Kind:prometheusPull URL: Attributes:map[]}] System:[myPrometheusPull] Functions:[myPrometheusPull]} ScaleToZero:{MetricName:nuclio_processor_handled_events_total WindowSize:10m PollerInterval:10s ScalerInterval:1m} AutoScale:{MetricName: TargetValue:20} FunctionAugmentedConfigs:[]}\"\n",
      "\"level\":\"debug\",\"time\":\"2019-12-24T08:53:07.550Z\",\"name\":\"processor.cron\",\"message\":\"Creating worker pool\",\"more\":\"num=1\"\n",
      "\"level\":\"debug\",\"time\":\"2019-12-24T08:53:07.550Z\",\"name\":\"processor.cron.w0.python.logger\",\"message\":\"Creating listener socket\",\"more\":\"path=/tmp/nuclio-rpc-bo0t3svsnb0g00a5id9g.sock\"\n",
      "\"level\":\"debug\",\"time\":\"2019-12-24T08:53:07.550Z\",\"name\":\"processor.cron.w0.python.logger\",\"message\":\"Using Python wrapper script path\",\"more\":\"path=/opt/nuclio/_nuclio_wrapper.py\"\n",
      "\"level\":\"debug\",\"time\":\"2019-12-24T08:53:07.550Z\",\"name\":\"processor.cron.w0.python.logger\",\"message\":\"Using Python handler\",\"more\":\"handler=nuclio-training:handler\"\n",
      "\"level\":\"debug\",\"time\":\"2019-12-24T08:53:07.550Z\",\"name\":\"processor.cron.w0.python.logger\",\"message\":\"Using Python executable\",\"more\":\"path=/usr/local/bin/python3\"\n",
      "\"level\":\"debug\",\"time\":\"2019-12-24T08:53:07.550Z\",\"name\":\"processor.cron.w0.python.logger\",\"message\":\"Setting PYTHONPATH\",\"more\":\"value=PYTHONPATH=/opt/nuclio\"\n",
      "\"level\":\"debug\",\"time\":\"2019-12-24T08:53:07.550Z\",\"name\":\"processor.cron.w0.python.logger\",\"message\":\"Running wrapper\",\"more\":\"command=/usr/local/bin/python3 -u /opt/nuclio/_nuclio_wrapper.py --handler nuclio-training:handler --socket-path /tmp/nuclio-rpc-bo0t3svsnb0g00a5id9g.sock --platform-kind kube --namespace default-tenant --worker-id 0 --trigger-name \"}Python> 2019-12-24 08:53:08,849 [warning] Caught unhandled exception while initializing: {'err': \"XGBoost Library (libxgboost.so) could not be loaded.\n",
      "Likely causes:\n",
      "  * OpenMP runtime is not installed (vcomp140.dll or libgomp-1.dll for Windows, libgomp.so for UNIX-like OSes)\n",
      "  * You are running 32-bit Python on a 64-bit OS\n",
      "Error message(s): ['dlopen: cannot load any more object with static TLS', 'dlopen: cannot load any more object with static TLS']\n",
      "\", 'traceback': 'Traceback (most recent call last):\n",
      "  File \"/opt/nuclio/_nuclio_wrapper.py\", line 314, in run_wrapper\n",
      "    args.trigger_name)\n",
      "  File \"/opt/nuclio/_nuclio_wrapper.py\", line 51, in __init__\n",
      "    self._entrypoint = self._load_entrypoint_from_handler(handler)\n",
      "  File \"/opt/nuclio/_nuclio_wrapper.py\", line 227, in _load_entrypoint_from_handler\n",
      "    module = __import__(module_name)\n",
      "  File \"/opt/nuclio/nuclio-training.py\", line 17, in <module>\n",
      "    import xgboost as xgb\n",
      "  File \"/usr/local/lib/python3.6/site-packages/xgboost/__init__.py\", line 11, in <module>\n",
      "    from .core import DMatrix, Booster\n",
      "  File \"/usr/local/lib/python3.6/site-packages/xgboost/core.py\", line 161, in <module>\n",
      "    _LIB = _load_lib()\n",
      "  File \"/usr/local/lib/python3.6/site-packages/xgboost/core.py\", line 152, in _load_lib\n",
      "    \\'Error message(s): {}\\\n",
      "\\'.format(os_error_list))\n",
      "xgboost.core.XGBoostError: XGBoost Library (libxgboost.so) could not be loaded.\n",
      "Likely causes:\n",
      "  * OpenMP runtime is not installed (vcomp140.dll or libgomp-1.dll for Windows, libgomp.so for UNIX-like OSes)\n",
      "  * You are running 32-bit Python on a 64-bit OS\n",
      "Error message(s): [\\'dlopen: cannot load any more object with static TLS\\', \\'dlopen: cannot load any more object with static TLS\\']\n",
      "\n",
      "'}\n",
      "* training-7fb589bc59-4k6mm\n",
      "{\"level\":\"debug\",\"time\":\"2019-12-24T08:55:44.033Z\",\"name\":\"processor\",\"message\":\"Read configuration\",\"more\":\"config=&{Config:{Meta:{Name:training Namespace:default-tenant Labels:map[] Annotations:map[nuclio.io/generated_by:function generated at 24-12-2019 by admin from nuclio-training.ipynb]} Spec:{Description: Disabled:false Publish:false Handler:nuclio-training:handler Runtime:python:3.6 Env:[{Name:V3IO_FRAMESD Value:framesd.default-tenant.svc:8080 ValueFrom:nil} {Name:V3IO_USERNAME Value:admin ValueFrom:nil} {Name:V3IO_ACCESS_KEY Value:275eeda5-5d83-427e-adda-ddb469370fb5 ValueFrom:nil} {Name:V3IO_API Value:v3io-webapi.default-tenant.svc:8081 ValueFrom:nil} {Name:FEATURES_TABLE Value:/v3io/bigdata/netops_features_parquet ValueFrom:nil} {Name:FROM_TSDB Value:0 ValueFrom:nil} {Name:TRAIN_ON_LAST Value:1d ValueFrom:nil} {Name:TRAIN_SIZE Value:0.7 ValueFrom:nil} {Name:NUMBER_OF_SHARDS Value:4 ValueFrom:nil} {Name:MODEL_FILENAME Value:netops.v3.model ValueFrom:nil} {Name:SAVE_TO Value:/v3io/bigdata/netops/models ValueFrom:nil}] Resources:{Limits:map[] Requests:map[]} Image:docker-registry.default-tenant.app.spjxothqybjz.iguazio-cd2.com:80/nuclio/processor-training:latest ImageHash:1577177605220368167 Replicas:<nil> MinReplicas:<nil> MaxReplicas:<nil> TargetCPU:0 DataBindings:map[] Triggers:map[retrain:{Class: Kind:cron Disabled:false MaxWorkers:0 URL: Paths:[] Username: Password: Secret: Partitions:[] Annotations:map[] WorkerAvailabilityTimeoutMilliseconds:0 WorkerAllocatorName: TotalTasks:0 MaxTaskAllocation:0 Attributes:map[interval:1h]}] Volumes:[{Volume:{Name:fs VolumeSource:{HostPath:nil EmptyDir:nil GCEPersistentDisk:nil AWSElasticBlockStore:nil GitRepo:nil Secret:nil NFS:nil ISCSI:nil Glusterfs:nil PersistentVolumeClaim:nil RBD:nil FlexVolume:&FlexVolumeSource{Driver:v3io/fuse,FSType:,SecretRef:nil,ReadOnly:false,Options:map[string]string{accessKey: 275eeda5-5d83-427e-adda-ddb469370fb5,container: users,subPath: /admin,},} Cinder:nil CephFS:nil Flocker:nil DownwardAPI:nil FC:nil AzureFile:nil ConfigMap:nil VsphereVolume:nil Quobyte:nil AzureDisk:nil PhotonPersistentDisk:nil Projected:nil PortworxVolume:nil ScaleIO:nil StorageOS:nil}} VolumeMount:{Name:fs ReadOnly:false MountPath:User SubPath: MountPropagation:<nil>}}] Version:-1 Alias:latest Build:{Path: FunctionSourceCode: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 FunctionConfigPath: TempDir: Registry:docker-registry.default-tenant.app.spjxothqybjz.iguazio-cd2.com:80 Image: NoBaseImagesPull:true NoCache:false NoCleanup:false BaseImage:python:3.6-jessie Commands:[pip install pyyaml pip install pyarrow pip install pandas pip install v3io_frames --upgrade pip install scikit-learn==0.20.1 pip install xgboost==0.90 --upgrade pip install dask[\\\"complete\\\"] --upgrade pip install dask-ml[\\\"complete\\\"] --upgrade] Directives:map[] ScriptPaths:[] AddedObjectPaths:map[] Dependencies:[] OnbuildImage: Offline:true RuntimeAttributes:map[] CodeEntryType:sourceCode CodeEntryAttributes:map[] Timestamp:1577177692 Mode:} RunRegistry:docker-registry.default-tenant.app.spjxothqybjz.iguazio-cd2.com:80 RuntimeAttributes:map[] LoggerSinks:[] DealerURI: Platform:{Attributes:map[]} ReadinessTimeoutSeconds:0 Avatar: ServiceType:NodePort ImagePullPolicy: ServiceAccount: EventTimeout:}} PlatformConfig:<nil>} || platformConfig=&{Kind:kube WebAdmin:{Enabled:<nil> ListenAddress:} HealthCheck:{Enabled:<nil> ListenAddress:} Logger:{Sinks:map[myStdoutLoggerSink:{Kind:stdout URL: Attributes:map[encoding:json timeFieldEncoding:iso8601 timeFieldName:time varGroupName:more]}] System:[{Level:debug Sink:myStdoutLoggerSink}] Functions:[{Level:debug Sink:myStdoutLoggerSink}]} Metrics:{Sinks:map[myPrometheusPull:{Enabled:<nil> Kind:prometheusPull URL: Attributes:map[]}] System:[myPrometheusPull] Functions:[myPrometheusPull]} ScaleToZero:{MetricName:nuclio_processor_handled_events_total WindowSize:10m PollerInterval:10s ScalerInterval:1m} AutoScale:{MetricName: TargetValue:20} FunctionAugmentedConfigs:[]}\"\n",
      "\"level\":\"debug\",\"time\":\"2019-12-24T08:55:44.033Z\",\"name\":\"processor.cron\",\"message\":\"Creating worker pool\",\"more\":\"num=1\"\n",
      "\"level\":\"debug\",\"time\":\"2019-12-24T08:55:44.033Z\",\"name\":\"processor.cron.w0.python.logger\",\"message\":\"Creating listener socket\",\"more\":\"path=/tmp/nuclio-rpc-bo0t543c2aqg00c66akg.sock\"\n",
      "\"level\":\"debug\",\"time\":\"2019-12-24T08:55:44.033Z\",\"name\":\"processor.cron.w0.python.logger\",\"message\":\"Using Python wrapper script path\",\"more\":\"path=/opt/nuclio/_nuclio_wrapper.py\"\n",
      "\"level\":\"debug\",\"time\":\"2019-12-24T08:55:44.034Z\",\"name\":\"processor.cron.w0.python.logger\",\"message\":\"Using Python handler\",\"more\":\"handler=nuclio-training:handler\"\n",
      "\"level\":\"debug\",\"time\":\"2019-12-24T08:55:44.034Z\",\"name\":\"processor.cron.w0.python.logger\",\"message\":\"Using Python executable\",\"more\":\"path=/usr/local/bin/python3\"\n",
      "\"level\":\"debug\",\"time\":\"2019-12-24T08:55:44.034Z\",\"name\":\"processor.cron.w0.python.logger\",\"message\":\"Setting PYTHONPATH\",\"more\":\"value=PYTHONPATH=/opt/nuclio\"\n",
      "\"level\":\"debug\",\"time\":\"2019-12-24T08:55:44.034Z\",\"name\":\"processor.cron.w0.python.logger\",\"message\":\"Running wrapper\",\"more\":\"command=/usr/local/bin/python3 -u /opt/nuclio/_nuclio_wrapper.py --handler nuclio-training:handler --socket-path /tmp/nuclio-rpc-bo0t543c2aqg00c66akg.sock --platform-kind kube --namespace default-tenant --worker-id 0 --trigger-name \"}Python> 2019-12-24 08:55:45,342 [warning] Caught unhandled exception while initializing: {'err': \"XGBoost Library (libxgboost.so) could not be loaded.\n",
      "Likely causes:\n",
      "  * OpenMP runtime is not installed (vcomp140.dll or libgomp-1.dll for Windows, libgomp.so for UNIX-like OSes)\n",
      "  * You are running 32-bit Python on a 64-bit OS\n",
      "Error message(s): ['dlopen: cannot load any more object with static TLS', 'dlopen: cannot load any more object with static TLS']\n",
      "\", 'traceback': 'Traceback (most recent call last):\n",
      "  File \"/opt/nuclio/_nuclio_wrapper.py\", line 314, in run_wrapper\n",
      "    args.trigger_name)\n",
      "  File \"/opt/nuclio/_nuclio_wrapper.py\", line 51, in __init__\n",
      "    self._entrypoint = self._load_entrypoint_from_handler(handler)\n",
      "  File \"/opt/nuclio/_nuclio_wrapper.py\", line 227, in _load_entrypoint_from_handler\n",
      "    module = __import__(module_name)\n",
      "  File \"/opt/nuclio/nuclio-training.py\", line 17, in <module>\n",
      "    import xgboost as xgb\n",
      "  File \"/usr/local/lib/python3.6/site-packages/xgboost/__init__.py\", line 11, in <module>\n",
      "    from .core import DMatrix, Booster\n",
      "  File \"/usr/local/lib/python3.6/site-packages/xgboost/core.py\", line 161, in <module>\n",
      "    _LIB = _load_lib()\n",
      "  File \"/usr/local/lib/python3.6/site-packages/xgboost/core.py\", line 152, in _load_lib\n",
      "    \\'Error message(s): {}\\\n",
      "\\'.format(os_error_list))\n",
      "xgboost.core.XGBoostError: XGBoost Library (libxgboost.so) could not be loaded.\n",
      "Likely causes:\n",
      "  * OpenMP runtime is not installed (vcomp140.dll or libgomp-1.dll for Windows, libgomp.so for UNIX-like OSes)\n",
      "  * You are running 32-bit Python on a 64-bit OS\n",
      "Error message(s): [\\'dlopen: cannot load any more object with static TLS\\', \\'dlopen: cannot load any more object with static TLS\\']\n",
      "\n",
      "'}\n",
      "    .../nuclio/nuclio/pkg/platform/kube/deployer.go:169\n",
      "Failed to wait for function readiness.\n",
      "\n",
      "Pod logs:\n",
      "\n",
      "* training-5b9df8f7-2c2bj\n",
      "{\"level\":\"debug\",\"time\":\"2019-12-24T08:53:07.550Z\",\"name\":\"processor\",\"message\":\"Read configuration\",\"more\":\"config=&{Config:{Meta:{Name:training Namespace:default-tenant Labels:map[] Annotations:map[nuclio.io/generated_by:function generated at 24-12-2019 by admin from nuclio-training.ipynb]} Spec:{Description: Disabled:false Publish:false Handler:nuclio-training:handler Runtime:python:3.6 Env:[{Name:V3IO_FRAMESD Value:framesd.default-tenant.svc:8080 ValueFrom:nil} {Name:V3IO_USERNAME Value:admin ValueFrom:nil} {Name:V3IO_ACCESS_KEY Value:275eeda5-5d83-427e-adda-ddb469370fb5 ValueFrom:nil} {Name:FEATURES_TABLE Value:/v3io/bigdata/netops_features_parquet ValueFrom:nil} {Name:FROM_TSDB Value:0 ValueFrom:nil} {Name:TRAIN_ON_LAST Value:1d ValueFrom:nil} {Name:TRAIN_SIZE Value:0.7 ValueFrom:nil} {Name:NUMBER_OF_SHARDS Value:4 ValueFrom:nil} {Name:MODEL_FILENAME Value:netops.v3.model ValueFrom:nil} {Name:SAVE_TO Value:/v3io/bigdata/netops/models ValueFrom:nil}] Resources:{Limits:map[] Requests:map[]} Image:docker-registry.default-tenant.app.spjxothqybjz.iguazio-cd2.com:80/nuclio/processor-training:latest ImageHash:1577177314140808083 Replicas:<nil> MinReplicas:<nil> MaxReplicas:<nil> TargetCPU:0 DataBindings:map[] Triggers:map[retrain:{Class: Kind:cron Disabled:false MaxWorkers:0 URL: Paths:[] Username: Password: Secret: Partitions:[] Annotations:map[] WorkerAvailabilityTimeoutMilliseconds:0 WorkerAllocatorName: TotalTasks:0 MaxTaskAllocation:0 Attributes:map[interval:1h]}] Volumes:[{Volume:{Name:fs VolumeSource:{HostPath:nil EmptyDir:nil GCEPersistentDisk:nil AWSElasticBlockStore:nil GitRepo:nil Secret:nil NFS:nil ISCSI:nil Glusterfs:nil PersistentVolumeClaim:nil RBD:nil FlexVolume:&FlexVolumeSource{Driver:v3io/fuse,FSType:,SecretRef:nil,ReadOnly:false,Options:map[string]string{accessKey: 275eeda5-5d83-427e-adda-ddb469370fb5,container: users,subPath: /admin,},} Cinder:nil CephFS:nil Flocker:nil DownwardAPI:nil FC:nil AzureFile:nil ConfigMap:nil VsphereVolume:nil Quobyte:nil AzureDisk:nil PhotonPersistentDisk:nil Projected:nil PortworxVolume:nil ScaleIO:nil StorageOS:nil}} VolumeMount:{Name:fs ReadOnly:false MountPath:User SubPath: MountPropagation:<nil>}}] Version:-1 Alias:latest Build:{Path: FunctionSourceCode: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 FunctionConfigPath: TempDir: Registry:docker-registry.default-tenant.app.spjxothqybjz.iguazio-cd2.com:80 Image: NoBaseImagesPull:true NoCache:false NoCleanup:false BaseImage:python:3.6-jessie Commands:[pip install pyyaml pip install pyarrow pip install pandas pip install v3io_frames --upgrade pip install scikit-learn==0.20.1 pip install xgboost --upgrade pip install dask[\\\"complete\\\"] --upgrade pip install dask-ml[\\\"complete\\\"] --upgrade] Directives:map[] ScriptPaths:[] AddedObjectPaths:map[] Dependencies:[] OnbuildImage: Offline:true RuntimeAttributes:map[] CodeEntryType:sourceCode CodeEntryAttributes:map[] Timestamp:1577177316 Mode:} RunRegistry:docker-registry.default-tenant.app.spjxothqybjz.iguazio-cd2.com:80 RuntimeAttributes:map[] LoggerSinks:[] DealerURI: Platform:{Attributes:map[]} ReadinessTimeoutSeconds:0 Avatar: ServiceType:NodePort ImagePullPolicy: ServiceAccount: EventTimeout:}} PlatformConfig:<nil>} || platformConfig=&{Kind:kube WebAdmin:{Enabled:<nil> ListenAddress:} HealthCheck:{Enabled:<nil> ListenAddress:} Logger:{Sinks:map[myStdoutLoggerSink:{Kind:stdout URL: Attributes:map[encoding:json timeFieldEncoding:iso8601 timeFieldName:time varGroupName:more]}] System:[{Level:debug Sink:myStdoutLoggerSink}] Functions:[{Level:debug Sink:myStdoutLoggerSink}]} Metrics:{Sinks:map[myPrometheusPull:{Enabled:<nil> Kind:prometheusPull URL: Attributes:map[]}] System:[myPrometheusPull] Functions:[myPrometheusPull]} ScaleToZero:{MetricName:nuclio_processor_handled_events_total WindowSize:10m PollerInterval:10s ScalerInterval:1m} AutoScale:{MetricName: TargetValue:20} FunctionAugmentedConfigs:[]}\"\n",
      "\"level\":\"debug\",\"time\":\"2019-12-24T08:53:07.550Z\",\"name\":\"processor.cron\",\"message\":\"Creating worker pool\",\"more\":\"num=1\"\n",
      "\"level\":\"debug\",\"time\":\"2019-12-24T08:53:07.550Z\",\"name\":\"processor.cron.w0.python.logger\",\"message\":\"Creating listener socket\",\"more\":\"path=/tmp/nuclio-rpc-bo0t3svsnb0g00a5id9g.sock\"\n",
      "\"level\":\"debug\",\"time\":\"2019-12-24T08:53:07.550Z\",\"name\":\"processor.cron.w0.python.logger\",\"message\":\"Using Python wrapper script path\",\"more\":\"path=/opt/nuclio/_nuclio_wrapper.py\"\n",
      "\"level\":\"debug\",\"time\":\"2019-12-24T08:53:07.550Z\",\"name\":\"processor.cron.w0.python.logger\",\"message\":\"Using Python handler\",\"more\":\"handler=nuclio-training:handler\"\n",
      "\"level\":\"debug\",\"time\":\"2019-12-24T08:53:07.550Z\",\"name\":\"processor.cron.w0.python.logger\",\"message\":\"Using Python executable\",\"more\":\"path=/usr/local/bin/python3\"\n",
      "\"level\":\"debug\",\"time\":\"2019-12-24T08:53:07.550Z\",\"name\":\"processor.cron.w0.python.logger\",\"message\":\"Setting PYTHONPATH\",\"more\":\"value=PYTHONPATH=/opt/nuclio\"\n",
      "\"level\":\"debug\",\"time\":\"2019-12-24T08:53:07.550Z\",\"name\":\"processor.cron.w0.python.logger\",\"message\":\"Running wrapper\",\"more\":\"command=/usr/local/bin/python3 -u /opt/nuclio/_nuclio_wrapper.py --handler nuclio-training:handler --socket-path /tmp/nuclio-rpc-bo0t3svsnb0g00a5id9g.sock --platform-kind kube --namespace default-tenant --worker-id 0 --trigger-name \"}Python> 2019-12-24 08:53:08,849 [warning] Caught unhandled exception while initializing: {'err': \"XGBoost Library (libxgboost.so) could not be loaded.\n",
      "Likely causes:\n",
      "  * OpenMP runtime is not installed (vcomp140.dll or libgomp-1.dll for Windows, libgomp.so for UNIX-like OSes)\n",
      "  * You are running 32-bit Python on a 64-bit OS\n",
      "Error message(s): ['dlopen: cannot load any more object with static TLS', 'dlopen: cannot load any more object with static TLS']\n",
      "\", 'traceback': 'Traceback (most recent call last):\n",
      "  File \"/opt/nuclio/_nuclio_wrapper.py\", line 314, in run_wrapper\n",
      "    args.trigger_name)\n",
      "  File \"/opt/nuclio/_nuclio_wrapper.py\", line 51, in __init__\n",
      "    self._entrypoint = self._load_entrypoint_from_handler(handler)\n",
      "  File \"/opt/nuclio/_nuclio_wrapper.py\", line 227, in _load_entrypoint_from_handler\n",
      "    module = __import__(module_name)\n",
      "  File \"/opt/nuclio/nuclio-training.py\", line 17, in <module>\n",
      "    import xgboost as xgb\n",
      "  File \"/usr/local/lib/python3.6/site-packages/xgboost/__init__.py\", line 11, in <module>\n",
      "    from .core import DMatrix, Booster\n",
      "  File \"/usr/local/lib/python3.6/site-packages/xgboost/core.py\", line 161, in <module>\n",
      "    _LIB = _load_lib()\n",
      "  File \"/usr/local/lib/python3.6/site-packages/xgboost/core.py\", line 152, in _load_lib\n",
      "    \\'Error message(s): {}\\\n",
      "\\'.format(os_error_list))\n",
      "xgboost.core.XGBoostError: XGBoost Library (libxgboost.so) could not be loaded.\n",
      "Likely causes:\n",
      "  * OpenMP runtime is not installed (vcomp140.dll or libgomp-1.dll for Windows, libgomp.so for UNIX-like OSes)\n",
      "  * You are running 32-bit Python on a 64-bit OS\n",
      "Error message(s): [\\'dlopen: cannot load any more object with static TLS\\', \\'dlopen: cannot load any more object with static TLS\\']\n",
      "\n",
      "'}\n",
      "* training-7fb589bc59-4k6mm\n",
      "{\"level\":\"debug\",\"time\":\"2019-12-24T08:55:44.033Z\",\"name\":\"processor\",\"message\":\"Read configuration\",\"more\":\"config=&{Config:{Meta:{Name:training Namespace:default-tenant Labels:map[] Annotations:map[nuclio.io/generated_by:function generated at 24-12-2019 by admin from nuclio-training.ipynb]} Spec:{Description: Disabled:false Publish:false Handler:nuclio-training:handler Runtime:python:3.6 Env:[{Name:V3IO_FRAMESD Value:framesd.default-tenant.svc:8080 ValueFrom:nil} {Name:V3IO_USERNAME Value:admin ValueFrom:nil} {Name:V3IO_ACCESS_KEY Value:275eeda5-5d83-427e-adda-ddb469370fb5 ValueFrom:nil} {Name:V3IO_API Value:v3io-webapi.default-tenant.svc:8081 ValueFrom:nil} {Name:FEATURES_TABLE Value:/v3io/bigdata/netops_features_parquet ValueFrom:nil} {Name:FROM_TSDB Value:0 ValueFrom:nil} {Name:TRAIN_ON_LAST Value:1d ValueFrom:nil} {Name:TRAIN_SIZE Value:0.7 ValueFrom:nil} {Name:NUMBER_OF_SHARDS Value:4 ValueFrom:nil} {Name:MODEL_FILENAME Value:netops.v3.model ValueFrom:nil} {Name:SAVE_TO Value:/v3io/bigdata/netops/models ValueFrom:nil}] Resources:{Limits:map[] Requests:map[]} Image:docker-registry.default-tenant.app.spjxothqybjz.iguazio-cd2.com:80/nuclio/processor-training:latest ImageHash:1577177605220368167 Replicas:<nil> MinReplicas:<nil> MaxReplicas:<nil> TargetCPU:0 DataBindings:map[] Triggers:map[retrain:{Class: Kind:cron Disabled:false MaxWorkers:0 URL: Paths:[] Username: Password: Secret: Partitions:[] Annotations:map[] WorkerAvailabilityTimeoutMilliseconds:0 WorkerAllocatorName: TotalTasks:0 MaxTaskAllocation:0 Attributes:map[interval:1h]}] Volumes:[{Volume:{Name:fs VolumeSource:{HostPath:nil EmptyDir:nil GCEPersistentDisk:nil AWSElasticBlockStore:nil GitRepo:nil Secret:nil NFS:nil ISCSI:nil Glusterfs:nil PersistentVolumeClaim:nil RBD:nil FlexVolume:&FlexVolumeSource{Driver:v3io/fuse,FSType:,SecretRef:nil,ReadOnly:false,Options:map[string]string{accessKey: 275eeda5-5d83-427e-adda-ddb469370fb5,container: users,subPath: /admin,},} Cinder:nil CephFS:nil Flocker:nil DownwardAPI:nil FC:nil AzureFile:nil ConfigMap:nil VsphereVolume:nil Quobyte:nil AzureDisk:nil PhotonPersistentDisk:nil Projected:nil PortworxVolume:nil ScaleIO:nil StorageOS:nil}} VolumeMount:{Name:fs ReadOnly:false MountPath:User SubPath: MountPropagation:<nil>}}] Version:-1 Alias:latest Build:{Path: FunctionSourceCode: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 FunctionConfigPath: TempDir: Registry:docker-registry.default-tenant.app.spjxothqybjz.iguazio-cd2.com:80 Image: NoBaseImagesPull:true NoCache:false NoCleanup:false BaseImage:python:3.6-jessie Commands:[pip install pyyaml pip install pyarrow pip install pandas pip install v3io_frames --upgrade pip install scikit-learn==0.20.1 pip install xgboost==0.90 --upgrade pip install dask[\\\"complete\\\"] --upgrade pip install dask-ml[\\\"complete\\\"] --upgrade] Directives:map[] ScriptPaths:[] AddedObjectPaths:map[] Dependencies:[] OnbuildImage: Offline:true RuntimeAttributes:map[] CodeEntryType:sourceCode CodeEntryAttributes:map[] Timestamp:1577177692 Mode:} RunRegistry:docker-registry.default-tenant.app.spjxothqybjz.iguazio-cd2.com:80 RuntimeAttributes:map[] LoggerSinks:[] DealerURI: Platform:{Attributes:map[]} ReadinessTimeoutSeconds:0 Avatar: ServiceType:NodePort ImagePullPolicy: ServiceAccount: EventTimeout:}} PlatformConfig:<nil>} || platformConfig=&{Kind:kube WebAdmin:{Enabled:<nil> ListenAddress:} HealthCheck:{Enabled:<nil> ListenAddress:} Logger:{Sinks:map[myStdoutLoggerSink:{Kind:stdout URL: Attributes:map[encoding:json timeFieldEncoding:iso8601 timeFieldName:time varGroupName:more]}] System:[{Level:debug Sink:myStdoutLoggerSink}] Functions:[{Level:debug Sink:myStdoutLoggerSink}]} Metrics:{Sinks:map[myPrometheusPull:{Enabled:<nil> Kind:prometheusPull URL: Attributes:map[]}] System:[myPrometheusPull] Functions:[myPrometheusPull]} ScaleToZero:{MetricName:nuclio_processor_handled_events_total WindowSize:10m PollerInterval:10s ScalerInterval:1m} AutoScale:{MetricName: TargetValue:20} FunctionAugmentedConfigs:[]}\"\n",
      "\"level\":\"debug\",\"time\":\"2019-12-24T08:55:44.033Z\",\"name\":\"processor.cron\",\"message\":\"Creating worker pool\",\"more\":\"num=1\"\n",
      "\"level\":\"debug\",\"time\":\"2019-12-24T08:55:44.033Z\",\"name\":\"processor.cron.w0.python.logger\",\"message\":\"Creating listener socket\",\"more\":\"path=/tmp/nuclio-rpc-bo0t543c2aqg00c66akg.sock\"\n",
      "\"level\":\"debug\",\"time\":\"2019-12-24T08:55:44.033Z\",\"name\":\"processor.cron.w0.python.logger\",\"message\":\"Using Python wrapper script path\",\"more\":\"path=/opt/nuclio/_nuclio_wrapper.py\"\n",
      "\"level\":\"debug\",\"time\":\"2019-12-24T08:55:44.034Z\",\"name\":\"processor.cron.w0.python.logger\",\"message\":\"Using Python handler\",\"more\":\"handler=nuclio-training:handler\"\n",
      "\"level\":\"debug\",\"time\":\"2019-12-24T08:55:44.034Z\",\"name\":\"processor.cron.w0.python.logger\",\"message\":\"Using Python executable\",\"more\":\"path=/usr/local/bin/python3\"\n",
      "\"level\":\"debug\",\"time\":\"2019-12-24T08:55:44.034Z\",\"name\":\"processor.cron.w0.python.logger\",\"message\":\"Setting PYTHONPATH\",\"more\":\"value=PYTHONPATH=/opt/nuclio\"\n",
      "\"level\":\"debug\",\"time\":\"2019-12-24T08:55:44.034Z\",\"name\":\"processor.cron.w0.python.logger\",\"message\":\"Running wrapper\",\"more\":\"command=/usr/local/bin/python3 -u /opt/nuclio/_nuclio_wrapper.py --handler nuclio-training:handler --socket-path /tmp/nuclio-rpc-bo0t543c2aqg00c66akg.sock --platform-kind kube --namespace default-tenant --worker-id 0 --trigger-name \"}Python> 2019-12-24 08:55:45,342 [warning] Caught unhandled exception while initializing: {'err': \"XGBoost Library (libxgboost.so) could not be loaded.\n",
      "Likely causes:\n",
      "  * OpenMP runtime is not installed (vcomp140.dll or libgomp-1.dll for Windows, libgomp.so for UNIX-like OSes)\n",
      "  * You are running 32-bit Python on a 64-bit OS\n",
      "Error message(s): ['dlopen: cannot load any more object with static TLS', 'dlopen: cannot load any more object with static TLS']\n",
      "\", 'traceback': 'Traceback (most recent call last):\n",
      "  File \"/opt/nuclio/_nuclio_wrapper.py\", line 314, in run_wrapper\n",
      "    args.trigger_name)\n",
      "  File \"/opt/nuclio/_nuclio_wrapper.py\", line 51, in __init__\n",
      "    self._entrypoint = self._load_entrypoint_from_handler(handler)\n",
      "  File \"/opt/nuclio/_nuclio_wrapper.py\", line 227, in _load_entrypoint_from_handler\n",
      "    module = __import__(module_name)\n",
      "  File \"/opt/nuclio/nuclio-training.py\", line 17, in <module>\n",
      "    import xgboost as xgb\n",
      "  File \"/usr/local/lib/python3.6/site-packages/xgboost/__init__.py\", line 11, in <module>\n",
      "    from .core import DMatrix, Booster\n",
      "  File \"/usr/local/lib/python3.6/site-packages/xgboost/core.py\", line 161, in <module>\n",
      "    _LIB = _load_lib()\n",
      "  File \"/usr/local/lib/python3.6/site-packages/xgboost/core.py\", line 152, in _load_lib\n",
      "    \\'Error message(s): {}\\\n",
      "\\'.format(os_error_list))\n",
      "xgboost.core.XGBoostError: XGBoost Library (libxgboost.so) could not be loaded.\n",
      "Likely causes:\n",
      "  * OpenMP runtime is not installed (vcomp140.dll or libgomp-1.dll for Windows, libgomp.so for UNIX-like OSes)\n",
      "  * You are running 32-bit Python on a 64-bit OS\n",
      "Error message(s): [\\'dlopen: cannot load any more object with static TLS\\', \\'dlopen: cannot load any more object with static TLS\\']\n",
      "\n",
      "'}\n"
     ]
    },
    {
     "name": "stderr",
     "output_type": "stream",
     "text": [
      "INFO:nuclio.deploy:\n",
      "Error - NuclioFunction in error state (\n",
      "Error - context deadline exceeded\n",
      "    .../platform/kube/controller/nucliofunction.go:122\n",
      "\n",
      "Call stack:\n",
      "Failed to wait for function resources to be available\n",
      "    .../platform/kube/controller/nucliofunction.go:122\n",
      ")\n",
      "    .../nuclio/nuclio/pkg/platform/kube/deployer.go:197\n",
      "\n",
      "Call stack:\n",
      "NuclioFunction in error state (\n",
      "Error - context deadline exceeded\n",
      "    .../platform/kube/controller/nucliofunction.go:122\n",
      "\n",
      "Call stack:\n",
      "Failed to wait for function resources to be available\n",
      "    .../platform/kube/controller/nucliofunction.go:122\n",
      ")\n",
      "    .../nuclio/nuclio/pkg/platform/kube/deployer.go:197\n",
      "Failed to wait for function readiness.\n",
      "\n",
      "Pod logs:\n",
      "\n",
      "* training-5b9df8f7-2c2bj\n",
      "{\"level\":\"debug\",\"time\":\"2019-12-24T08:53:07.550Z\",\"name\":\"processor\",\"message\":\"Read configuration\",\"more\":\"config=&{Config:{Meta:{Name:training Namespace:default-tenant Labels:map[] Annotations:map[nuclio.io/generated_by:function generated at 24-12-2019 by admin from nuclio-training.ipynb]} Spec:{Description: Disabled:false Publish:false Handler:nuclio-training:handler Runtime:python:3.6 Env:[{Name:V3IO_FRAMESD Value:framesd.default-tenant.svc:8080 ValueFrom:nil} {Name:V3IO_USERNAME Value:admin ValueFrom:nil} {Name:V3IO_ACCESS_KEY Value:275eeda5-5d83-427e-adda-ddb469370fb5 ValueFrom:nil} {Name:FEATURES_TABLE Value:/v3io/bigdata/netops_features_parquet ValueFrom:nil} {Name:FROM_TSDB Value:0 ValueFrom:nil} {Name:TRAIN_ON_LAST Value:1d ValueFrom:nil} {Name:TRAIN_SIZE Value:0.7 ValueFrom:nil} {Name:NUMBER_OF_SHARDS Value:4 ValueFrom:nil} {Name:MODEL_FILENAME Value:netops.v3.model ValueFrom:nil} {Name:SAVE_TO Value:/v3io/bigdata/netops/models ValueFrom:nil}] Resources:{Limits:map[] Requests:map[]} Image:docker-registry.default-tenant.app.spjxothqybjz.iguazio-cd2.com:80/nuclio/processor-training:latest ImageHash:1577177314140808083 Replicas:<nil> MinReplicas:<nil> MaxReplicas:<nil> TargetCPU:0 DataBindings:map[] Triggers:map[retrain:{Class: Kind:cron Disabled:false MaxWorkers:0 URL: Paths:[] Username: Password: Secret: Partitions:[] Annotations:map[] WorkerAvailabilityTimeoutMilliseconds:0 WorkerAllocatorName: TotalTasks:0 MaxTaskAllocation:0 Attributes:map[interval:1h]}] Volumes:[{Volume:{Name:fs VolumeSource:{HostPath:nil EmptyDir:nil GCEPersistentDisk:nil AWSElasticBlockStore:nil GitRepo:nil Secret:nil NFS:nil ISCSI:nil Glusterfs:nil PersistentVolumeClaim:nil RBD:nil FlexVolume:&FlexVolumeSource{Driver:v3io/fuse,FSType:,SecretRef:nil,ReadOnly:false,Options:map[string]string{accessKey: 275eeda5-5d83-427e-adda-ddb469370fb5,container: users,subPath: /admin,},} Cinder:nil CephFS:nil Flocker:nil DownwardAPI:nil FC:nil AzureFile:nil ConfigMap:nil VsphereVolume:nil Quobyte:nil AzureDisk:nil PhotonPersistentDisk:nil Projected:nil PortworxVolume:nil ScaleIO:nil StorageOS:nil}} VolumeMount:{Name:fs ReadOnly:false MountPath:User SubPath: MountPropagation:<nil>}}] Version:-1 Alias:latest Build:{Path: FunctionSourceCode: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 FunctionConfigPath: TempDir: Registry:docker-registry.default-tenant.app.spjxothqybjz.iguazio-cd2.com:80 Image: NoBaseImagesPull:true NoCache:false NoCleanup:false BaseImage:python:3.6-jessie Commands:[pip install pyyaml pip install pyarrow pip install pandas pip install v3io_frames --upgrade pip install scikit-learn==0.20.1 pip install xgboost --upgrade pip install dask[\\\"complete\\\"] --upgrade pip install dask-ml[\\\"complete\\\"] --upgrade] Directives:map[] ScriptPaths:[] AddedObjectPaths:map[] Dependencies:[] OnbuildImage: Offline:true RuntimeAttributes:map[] CodeEntryType:sourceCode CodeEntryAttributes:map[] Timestamp:1577177316 Mode:} RunRegistry:docker-registry.default-tenant.app.spjxothqybjz.iguazio-cd2.com:80 RuntimeAttributes:map[] LoggerSinks:[] DealerURI: Platform:{Attributes:map[]} ReadinessTimeoutSeconds:0 Avatar: ServiceType:NodePort ImagePullPolicy: ServiceAccount: EventTimeout:}} PlatformConfig:<nil>} || platformConfig=&{Kind:kube WebAdmin:{Enabled:<nil> ListenAddress:} HealthCheck:{Enabled:<nil> ListenAddress:} Logger:{Sinks:map[myStdoutLoggerSink:{Kind:stdout URL: Attributes:map[encoding:json timeFieldEncoding:iso8601 timeFieldName:time varGroupName:more]}] System:[{Level:debug Sink:myStdoutLoggerSink}] Functions:[{Level:debug Sink:myStdoutLoggerSink}]} Metrics:{Sinks:map[myPrometheusPull:{Enabled:<nil> Kind:prometheusPull URL: Attributes:map[]}] System:[myPrometheusPull] Functions:[myPrometheusPull]} ScaleToZero:{MetricName:nuclio_processor_handled_events_total WindowSize:10m PollerInterval:10s ScalerInterval:1m} AutoScale:{MetricName: TargetValue:20} FunctionAugmentedConfigs:[]}\"\n",
      "\"level\":\"debug\",\"time\":\"2019-12-24T08:53:07.550Z\",\"name\":\"processor.cron\",\"message\":\"Creating worker pool\",\"more\":\"num=1\"\n",
      "\"level\":\"debug\",\"time\":\"2019-12-24T08:53:07.550Z\",\"name\":\"processor.cron.w0.python.logger\",\"message\":\"Creating listener socket\",\"more\":\"path=/tmp/nuclio-rpc-bo0t3svsnb0g00a5id9g.sock\"\n",
      "\"level\":\"debug\",\"time\":\"2019-12-24T08:53:07.550Z\",\"name\":\"processor.cron.w0.python.logger\",\"message\":\"Using Python wrapper script path\",\"more\":\"path=/opt/nuclio/_nuclio_wrapper.py\"\n",
      "\"level\":\"debug\",\"time\":\"2019-12-24T08:53:07.550Z\",\"name\":\"processor.cron.w0.python.logger\",\"message\":\"Using Python handler\",\"more\":\"handler=nuclio-training:handler\"\n",
      "\"level\":\"debug\",\"time\":\"2019-12-24T08:53:07.550Z\",\"name\":\"processor.cron.w0.python.logger\",\"message\":\"Using Python executable\",\"more\":\"path=/usr/local/bin/python3\"\n",
      "\"level\":\"debug\",\"time\":\"2019-12-24T08:53:07.550Z\",\"name\":\"processor.cron.w0.python.logger\",\"message\":\"Setting PYTHONPATH\",\"more\":\"value=PYTHONPATH=/opt/nuclio\"\n",
      "\"level\":\"debug\",\"time\":\"2019-12-24T08:53:07.550Z\",\"name\":\"processor.cron.w0.python.logger\",\"message\":\"Running wrapper\",\"more\":\"command=/usr/local/bin/python3 -u /opt/nuclio/_nuclio_wrapper.py --handler nuclio-training:handler --socket-path /tmp/nuclio-rpc-bo0t3svsnb0g00a5id9g.sock --platform-kind kube --namespace default-tenant --worker-id 0 --trigger-name \"}Python> 2019-12-24 08:53:08,849 [warning] Caught unhandled exception while initializing: {'err': \"XGBoost Library (libxgboost.so) could not be loaded.\n",
      "Likely causes:\n",
      "  * OpenMP runtime is not installed (vcomp140.dll or libgomp-1.dll for Windows, libgomp.so for UNIX-like OSes)\n",
      "  * You are running 32-bit Python on a 64-bit OS\n",
      "Error message(s): ['dlopen: cannot load any more object with static TLS', 'dlopen: cannot load any more object with static TLS']\n",
      "\", 'traceback': 'Traceback (most recent call last):\n",
      "  File \"/opt/nuclio/_nuclio_wrapper.py\", line 314, in run_wrapper\n",
      "    args.trigger_name)\n",
      "  File \"/opt/nuclio/_nuclio_wrapper.py\", line 51, in __init__\n",
      "    self._entrypoint = self._load_entrypoint_from_handler(handler)\n",
      "  File \"/opt/nuclio/_nuclio_wrapper.py\", line 227, in _load_entrypoint_from_handler\n",
      "    module = __import__(module_name)\n",
      "  File \"/opt/nuclio/nuclio-training.py\", line 17, in <module>\n",
      "    import xgboost as xgb\n",
      "  File \"/usr/local/lib/python3.6/site-packages/xgboost/__init__.py\", line 11, in <module>\n",
      "    from .core import DMatrix, Booster\n",
      "  File \"/usr/local/lib/python3.6/site-packages/xgboost/core.py\", line 161, in <module>\n",
      "    _LIB = _load_lib()\n",
      "  File \"/usr/local/lib/python3.6/site-packages/xgboost/core.py\", line 152, in _load_lib\n",
      "    \\'Error message(s): {}\\\n",
      "\\'.format(os_error_list))\n",
      "xgboost.core.XGBoostError: XGBoost Library (libxgboost.so) could not be loaded.\n",
      "Likely causes:\n",
      "  * OpenMP runtime is not installed (vcomp140.dll or libgomp-1.dll for Windows, libgomp.so for UNIX-like OSes)\n",
      "  * You are running 32-bit Python on a 64-bit OS\n",
      "Error message(s): [\\'dlopen: cannot load any more object with static TLS\\', \\'dlopen: cannot load any more object with static TLS\\']\n",
      "\n",
      "'}\n",
      "* training-7fb589bc59-4k6mm\n",
      "{\"level\":\"debug\",\"time\":\"2019-12-24T08:55:44.033Z\",\"name\":\"processor\",\"message\":\"Read configuration\",\"more\":\"config=&{Config:{Meta:{Name:training Namespace:default-tenant Labels:map[] Annotations:map[nuclio.io/generated_by:function generated at 24-12-2019 by admin from nuclio-training.ipynb]} Spec:{Description: Disabled:false Publish:false Handler:nuclio-training:handler Runtime:python:3.6 Env:[{Name:V3IO_FRAMESD Value:framesd.default-tenant.svc:8080 ValueFrom:nil} {Name:V3IO_USERNAME Value:admin ValueFrom:nil} {Name:V3IO_ACCESS_KEY Value:275eeda5-5d83-427e-adda-ddb469370fb5 ValueFrom:nil} {Name:V3IO_API Value:v3io-webapi.default-tenant.svc:8081 ValueFrom:nil} {Name:FEATURES_TABLE Value:/v3io/bigdata/netops_features_parquet ValueFrom:nil} {Name:FROM_TSDB Value:0 ValueFrom:nil} {Name:TRAIN_ON_LAST Value:1d ValueFrom:nil} {Name:TRAIN_SIZE Value:0.7 ValueFrom:nil} {Name:NUMBER_OF_SHARDS Value:4 ValueFrom:nil} {Name:MODEL_FILENAME Value:netops.v3.model ValueFrom:nil} {Name:SAVE_TO Value:/v3io/bigdata/netops/models ValueFrom:nil}] Resources:{Limits:map[] Requests:map[]} Image:docker-registry.default-tenant.app.spjxothqybjz.iguazio-cd2.com:80/nuclio/processor-training:latest ImageHash:1577177605220368167 Replicas:<nil> MinReplicas:<nil> MaxReplicas:<nil> TargetCPU:0 DataBindings:map[] Triggers:map[retrain:{Class: Kind:cron Disabled:false MaxWorkers:0 URL: Paths:[] Username: Password: Secret: Partitions:[] Annotations:map[] WorkerAvailabilityTimeoutMilliseconds:0 WorkerAllocatorName: TotalTasks:0 MaxTaskAllocation:0 Attributes:map[interval:1h]}] Volumes:[{Volume:{Name:fs VolumeSource:{HostPath:nil EmptyDir:nil GCEPersistentDisk:nil AWSElasticBlockStore:nil GitRepo:nil Secret:nil NFS:nil ISCSI:nil Glusterfs:nil PersistentVolumeClaim:nil RBD:nil FlexVolume:&FlexVolumeSource{Driver:v3io/fuse,FSType:,SecretRef:nil,ReadOnly:false,Options:map[string]string{accessKey: 275eeda5-5d83-427e-adda-ddb469370fb5,container: users,subPath: /admin,},} Cinder:nil CephFS:nil Flocker:nil DownwardAPI:nil FC:nil AzureFile:nil ConfigMap:nil VsphereVolume:nil Quobyte:nil AzureDisk:nil PhotonPersistentDisk:nil Projected:nil PortworxVolume:nil ScaleIO:nil StorageOS:nil}} VolumeMount:{Name:fs ReadOnly:false MountPath:User SubPath: MountPropagation:<nil>}}] Version:-1 Alias:latest Build:{Path: FunctionSourceCode:IyBHZW5lcmF0ZWQgYnkgbnVjbGlvLmV4cG9ydC5OdWNsaW9FeHBvcnRlciBvbiAyMDE5LTEyLTI0IDA4OjUzCgppbXBvcnQgb3MKaW1wb3J0IHRpbWUKaW1wb3J0IHlhbWwKaW1wb3J0IHBhbmRhcyBhcyBwZAppbXBvcnQgZGF0ZXRpbWUKaW1wb3J0IGl0ZXJ0b29scwppbXBvcnQgcGlja2xlCgppbXBvcnQgdjNpb19mcmFtZXMgYXMgdjNmCgppbXBvcnQgZGFzay5kYXRhZnJhbWUgYXMgZGQKZnJvbSBkYXNrLmRpc3RyaWJ1dGVkIGltcG9ydCBDbGllbnQKCmltcG9ydCBkYXNrX21sLm1vZGVsX3NlbGVjdGlvbiBhcyBkY3YKaW1wb3J0IHhnYm9vc3QgYXMgeGdiCgpkZWYgZm9ybWF0X2RmX2Zyb21fdHNkYihjb250ZXh0LCBkZik6CiAgICBkZi5pbmRleC5uYW1lcyA9IFsndGltZXN0YW1wJywgJ2NvbXBhbnknLCAnZGF0YV9jZW50ZXInLCAnZGV2aWNlJ10KICAgIGRmID0gZGYucmVzZXRfaW5kZXgoKQogICAgZGYgPSBkZC5mcm9tX3BhbmRhcyhkZiwgbnBhcnRpdGlvbnM9Y29udGV4dC5zaGFyZHMpCiAgICByZXR1cm4gZGYKCmRlZiBnZXRfZGF0YV90c2RiKGNvbnRleHQpOgogICAgZGYgPSBjb250ZXh0LnYzZi5yZWFkKGJhY2tlbmQ9J3RzZGInLCBxdWVyeT1mJ3NlbGVjdCAqIGZyb20ge2NvbnRleHQuZmVhdHVyZXNfdGFibGV9JywKICAgICAgICAgICAgICAgICAgICAgICAgICBzdGFydD1mJ25vdy17Y29udGV4dC50cmFpbl9vbl9sYXN0fScsIGVuZD0nbm93JywgbXVsdGlfaW5kZXg9VHJ1ZSkKICAgIGRmID0gZGYucmVzZXRfaW5kZXgoZHJvcD1UcnVlKQogICAgZGYgPSBkZltzb3J0ZWQoZGYuY29sdW1ucyldCiAgICBkZiA9IGRkLmZyb21fcGFuZGFzKGRmLCBucGFydGl0aW9ucz1jb250ZXh0LnNoYXJkcykKICAgIHJldHVybiBkZgoKZGVmIGdldF9kYXRhX3BhcnF1ZXQoY29udGV4dCk6CiAgICBtcGF0aCA9IFtvcy5wYXRoLmpvaW4oY29udGV4dC5mZWF0dXJlc190YWJsZSwgZmlsZSkgZm9yIGZpbGUgaW4gb3MubGlzdGRpcihjb250ZXh0LmZlYXR1cmVzX3RhYmxlKV0KICAgIAogICAgbGF0ZXN0ID0gbWF4KG1wYXRoLCBrZXk9b3MucGF0aC5nZXRtdGltZSkKICAgIHByaW50KGxhdGVzdCkKICAgIGNvbnRleHQubG9nZ2VyLmRlYnVnKGYnUmVhZGluZyBkYXRhIGZyb206IHtsYXRlc3R9JykKICAgIAogICAgZGYgPSBkZC5yZWFkX3BhcnF1ZXQobGF0ZXN0KQogICAgCiAgICByZXR1cm4gZGYKCmRlZiBnZXRfdHJhaW5fdGVzdF9zZXRzX2Zyb21fZGF0YShjb250ZXh0LCBkZjogcGQuRGF0YUZyYW1lKToKICAgIGRyb3BfY29sdW1ucyA9IFtjb2wgZm9yIGNvbCBpbiBkZi5jb2x1bW5zIGlmICdpc19lcnJvcicgaW4gY29sXQogICAgWCA9IGRmLmRyb3AoZHJvcF9jb2x1bW5zLCBheGlzPTEpCiAgICB5ID0gZGYubG9jWzosICdpc19lcnJvciddCiAgICBYX3RyYWluLCBYX3Rlc3QsIHlfdHJhaW4sIHlfdGVzdCA9IGRjdi50cmFpbl90ZXN0X3NwbGl0KFgsIHksIHRyYWluX3NpemU9Y29udGV4dC50cmFpbl9zaXplLCB0ZXN0X3NpemU9MS1jb250ZXh0LnRyYWluX3NpemUpCiAgICByZXR1cm4gWF90cmFpbiwgWF90ZXN0LCB5X3RyYWluLCB5X3Rlc3QKCmRlZiBpbml0X2NvbnRleHQoY29udGV4dCk6CiAgICAKICAgIHNldGF0dHIoY29udGV4dCwgJ2ZlYXR1cmVzX3RhYmxlJywgb3MuZ2V0ZW52KCdGRUFUVVJFU19UQUJMRScsICduZXRvcHNfZmVhdHVyZXMnKSkKICAgIAogICAgaXNfZnJvbV90c2RiID0gKGludChvcy5nZXRlbnYoJ0ZST01fVFNEQicsIDEpKSA9PSAxKQogICAgCiAgICBpZiBpc19mcm9tX3RzZGI6CiAgICAgICAgdjNpb19jbGllbnQgPSB2M2YuQ2xpZW50KGFkZHJlc3M9J2ZyYW1lc2Q6ODA4MScsIGNvbnRhaW5lcj0nYmlnZGF0YScpCiAgICAgICAgc2V0YXR0cihjb250ZXh0LCAndjNmJywgdjNpb19jbGllbnQpCiAgICAgICAgCiAgICAgICAgY29udGV4dC52M2YuY3JlYXRlKCd0c2RiJywgY29udGV4dC5mZWF0dXJlc190YWJsZSwgYXR0cnM9eydyYXRlJzogJzEvcyd9LCBpZl9leGlzdHM9MSkKICAgICAgICAKICAgICAgICBzZXRhdHRyKGNvbnRleHQsICdyZWFkJywgZ2V0X2RhdGFfdHNkYikKICAgICAgICAKICAgIGVsc2U6CiAgICAgICAgZmlsZXBhdGggPSBvcy5wYXRoLmpvaW4oY29udGV4dC5mZWF0dXJlc190YWJsZSkKICAgICAgICBpZiBub3Qgb3MucGF0aC5leGlzdHMoZmlsZXBhdGgpOgogICAgICAgICAgICBvcy5tYWtlZGlycyhmaWxlcGF0aCkKICAgICAgICAgICAgCiAgICAgICAgc2V0YXR0cihjb250ZXh0LCAncmVhZCcsIGdldF9kYXRhX3BhcnF1ZXQpCiAgICAKICAgIHRyYWluX29uX2xhc3QgPSBvcy5nZXRlbnYoJ1RSQUlOX09OX0xBU1QnLCAnN2QnKQogICAgc2V0YXR0cihjb250ZXh0LCAndHJhaW5fb25fbGFzdCcsIHRyYWluX29uX2xhc3QpCiAgICAKICAgIHRyYWluX3NldF9zaXplID0gZmxvYXQob3MuZ2V0ZW52KCdUUkFJTl9TSVpFJywgMC43KSkKICAgIHNldGF0dHIoY29udGV4dCwgJ3RyYWluX3NpemUnLCB0cmFpbl9zZXRfc2l6ZSkKICAgIAogICAgc2V0YXR0cihjb250ZXh0LCAnc2hhcmRzJywgaW50KG9zLmdldGVudignTlVNQkVSX09GX1NIQVJEUycsIDQpKSkKICAgIAogICAgbW9kZWxfZmlsZXBhdGggPSBvcy5nZXRlbnYoJ1NBVkVfVE8nLCAnL3YzaW8vYmlnZGF0YS9uZXRvcHMvbW9kZWxzJykKICAgIGlmIG5vdCBvcy5wYXRoLmV4aXN0cyhtb2RlbF9maWxlcGF0aCk6CiAgICAgICAgb3MubWFrZWRpcnMobW9kZWxfZmlsZXBhdGgpCiAgICBzZXRhdHRyKGNvbnRleHQsICdtb2RlbF9maWxlcGF0aCcsIG9zLnBhdGguam9pbihtb2RlbF9maWxlcGF0aCwgb3MuZ2V0ZW52KCdNT0RFTF9GSUxFTkFNRScsICduZXRvcHMubW9kZWwnKSkpCgpkZWYgaGFuZGxlcihjb250ZXh0LCBldmVudCk6CiAgICAKICAgIGRmID0gY29udGV4dC5yZWFkKGNvbnRleHQpIAoKICAgIFhfdHJhaW4sIFhfdGVzdCwgeV90cmFpbiwgeV90ZXN0ID0gZ2V0X3RyYWluX3Rlc3Rfc2V0c19mcm9tX2RhdGEoY29udGV4dCwgZGYpCiAgICAKICAgIG1vZGVsID0geGdiLlhHQkNsYXNzaWZpZXIoKQogICAgbW9kZWwuZml0KFhfdHJhaW4sIHlfdHJhaW4pCiAgICAKICAgIHNjb3JlID0gbW9kZWwuc2NvcmUoWF90ZXN0LCB5X3Rlc3QpCiAgICAKICAgIHBpY2tsZS5kdW1wKG1vZGVsLCBvcGVuKGNvbnRleHQubW9kZWxfZmlsZXBhdGggKyAnLnBpY2tsZScsICd3YicpKQoK FunctionConfigPath: TempDir: Registry:docker-registry.default-tenant.app.spjxothqybjz.iguazio-cd2.com:80 Image: NoBaseImagesPull:true NoCache:false NoCleanup:false BaseImage:python:3.6-jessie Commands:[pip install pyyaml pip install pyarrow pip install pandas pip install v3io_frames --upgrade pip install scikit-learn==0.20.1 pip install xgboost==0.90 --upgrade pip install dask[\\\"complete\\\"] --upgrade pip install dask-ml[\\\"complete\\\"] --upgrade] Directives:map[] ScriptPaths:[] AddedObjectPaths:map[] Dependencies:[] OnbuildImage: Offline:true RuntimeAttributes:map[] CodeEntryType:sourceCode CodeEntryAttributes:map[] Timestamp:1577177692 Mode:} RunRegistry:docker-registry.default-tenant.app.spjxothqybjz.iguazio-cd2.com:80 RuntimeAttributes:map[] LoggerSinks:[] DealerURI: Platform:{Attributes:map[]} ReadinessTimeoutSeconds:0 Avatar: ServiceType:NodePort ImagePullPolicy: ServiceAccount: EventTimeout:}} PlatformConfig:<nil>} || platformConfig=&{Kind:kube WebAdmin:{Enabled:<nil> ListenAddress:} HealthCheck:{Enabled:<nil> ListenAddress:} Logger:{Sinks:map[myStdoutLoggerSink:{Kind:stdout URL: Attributes:map[encoding:json timeFieldEncoding:iso8601 timeFieldName:time varGroupName:more]}] System:[{Level:debug Sink:myStdoutLoggerSink}] Functions:[{Level:debug Sink:myStdoutLoggerSink}]} Metrics:{Sinks:map[myPrometheusPull:{Enabled:<nil> Kind:prometheusPull URL: Attributes:map[]}] System:[myPrometheusPull] Functions:[myPrometheusPull]} ScaleToZero:{MetricName:nuclio_processor_handled_events_total WindowSize:10m PollerInterval:10s ScalerInterval:1m} AutoScale:{MetricName: TargetValue:20} FunctionAugmentedConfigs:[]}\"\n",
      "\"level\":\"debug\",\"time\":\"2019-12-24T08:55:44.033Z\",\"name\":\"processor.cron\",\"message\":\"Creating worker pool\",\"more\":\"num=1\"\n",
      "\"level\":\"debug\",\"time\":\"2019-12-24T08:55:44.033Z\",\"name\":\"processor.cron.w0.python.logger\",\"message\":\"Creating listener socket\",\"more\":\"path=/tmp/nuclio-rpc-bo0t543c2aqg00c66akg.sock\"\n",
      "\"level\":\"debug\",\"time\":\"2019-12-24T08:55:44.033Z\",\"name\":\"processor.cron.w0.python.logger\",\"message\":\"Using Python wrapper script path\",\"more\":\"path=/opt/nuclio/_nuclio_wrapper.py\"\n",
      "\"level\":\"debug\",\"time\":\"2019-12-24T08:55:44.034Z\",\"name\":\"processor.cron.w0.python.logger\",\"message\":\"Using Python handler\",\"more\":\"handler=nuclio-training:handler\"\n",
      "\"level\":\"debug\",\"time\":\"2019-12-24T08:55:44.034Z\",\"name\":\"processor.cron.w0.python.logger\",\"message\":\"Using Python executable\",\"more\":\"path=/usr/local/bin/python3\"\n",
      "\"level\":\"debug\",\"time\":\"2019-12-24T08:55:44.034Z\",\"name\":\"processor.cron.w0.python.logger\",\"message\":\"Setting PYTHONPATH\",\"more\":\"value=PYTHONPATH=/opt/nuclio\"\n",
      "\"level\":\"debug\",\"time\":\"2019-12-24T08:55:44.034Z\",\"name\":\"processor.cron.w0.python.logger\",\"message\":\"Running wrapper\",\"more\":\"command=/usr/local/bin/python3 -u /opt/nuclio/_nuclio_wrapper.py --handler nuclio-training:handler --socket-path /tmp/nuclio-rpc-bo0t543c2aqg00c66akg.sock --platform-kind kube --namespace default-tenant --worker-id 0 --trigger-name \"}Python> 2019-12-24 08:55:45,342 [warning] Caught unhandled exception while initializing: {'err': \"XGBoost Library (libxgboost.so) could not be loaded.\n",
      "Likely causes:\n",
      "  * OpenMP runtime is not installed (vcomp140.dll or libgomp-1.dll for Windows, libgomp.so for UNIX-like OSes)\n",
      "  * You are running 32-bit Python on a 64-bit OS\n",
      "Error message(s): ['dlopen: cannot load any more object with static TLS', 'dlopen: cannot load any more object with static TLS']\n",
      "\", 'traceback': 'Traceback (most recent call last):\n",
      "  File \"/opt/nuclio/_nuclio_wrapper.py\", line 314, in run_wrapper\n",
      "    args.trigger_name)\n",
      "  File \"/opt/nuclio/_nuclio_wrapper.py\", line 51, in __init__\n",
      "    self._entrypoint = self._load_entrypoint_from_handler(handler)\n",
      "  File \"/opt/nuclio/_nuclio_wrapper.py\", line 227, in _load_entrypoint_from_handler\n",
      "    module = __import__(module_name)\n",
      "  File \"/opt/nuclio/nuclio-training.py\", line 17, in <module>\n",
      "    import xgboost as xgb\n",
      "  File \"/usr/local/lib/python3.6/site-packages/xgboost/__init__.py\", line 11, in <module>\n",
      "    from .core import DMatrix, Booster\n",
      "  File \"/usr/local/lib/python3.6/site-packages/xgboost/core.py\", line 161, in <module>\n",
      "    _LIB = _load_lib()\n",
      "  File \"/usr/local/lib/python3.6/site-packages/xgboost/core.py\", line 152, in _load_lib\n",
      "    \\'Error message(s): {}\\\n",
      "\\'.format(os_error_list))\n",
      "xgboost.core.XGBoostError: XGBoost Library (libxgboost.so) could not be loaded.\n",
      "Likely causes:\n",
      "  * OpenMP runtime is not installed (vcomp140.dll or libgomp-1.dll for Windows, libgomp.so for UNIX-like OSes)\n",
      "  * You are running 32-bit Python on a 64-bit OS\n",
      "Error message(s): [\\'dlopen: cannot load any more object with static TLS\\', \\'dlopen: cannot load any more object with static TLS\\']\n",
      "\n",
      "'}\n",
      "    .../nuclio/nuclio/pkg/platform/kube/deployer.go:169\n",
      "Failed to wait for function readiness.\n",
      "\n",
      "Pod logs:\n",
      "\n",
      "* training-5b9df8f7-2c2bj\n",
      "{\"level\":\"debug\",\"time\":\"2019-12-24T08:53:07.550Z\",\"name\":\"processor\",\"message\":\"Read configuration\",\"more\":\"config=&{Config:{Meta:{Name:training Namespace:default-tenant Labels:map[] Annotations:map[nuclio.io/generated_by:function generated at 24-12-2019 by admin from nuclio-training.ipynb]} Spec:{Description: Disabled:false Publish:false Handler:nuclio-training:handler Runtime:python:3.6 Env:[{Name:V3IO_FRAMESD Value:framesd.default-tenant.svc:8080 ValueFrom:nil} {Name:V3IO_USERNAME Value:admin ValueFrom:nil} {Name:V3IO_ACCESS_KEY Value:275eeda5-5d83-427e-adda-ddb469370fb5 ValueFrom:nil} {Name:FEATURES_TABLE Value:/v3io/bigdata/netops_features_parquet ValueFrom:nil} {Name:FROM_TSDB Value:0 ValueFrom:nil} {Name:TRAIN_ON_LAST Value:1d ValueFrom:nil} {Name:TRAIN_SIZE Value:0.7 ValueFrom:nil} {Name:NUMBER_OF_SHARDS Value:4 ValueFrom:nil} {Name:MODEL_FILENAME Value:netops.v3.model ValueFrom:nil} {Name:SAVE_TO Value:/v3io/bigdata/netops/models ValueFrom:nil}] Resources:{Limits:map[] Requests:map[]} Image:docker-registry.default-tenant.app.spjxothqybjz.iguazio-cd2.com:80/nuclio/processor-training:latest ImageHash:1577177314140808083 Replicas:<nil> MinReplicas:<nil> MaxReplicas:<nil> TargetCPU:0 DataBindings:map[] Triggers:map[retrain:{Class: Kind:cron Disabled:false MaxWorkers:0 URL: Paths:[] Username: Password: Secret: Partitions:[] Annotations:map[] WorkerAvailabilityTimeoutMilliseconds:0 WorkerAllocatorName: TotalTasks:0 MaxTaskAllocation:0 Attributes:map[interval:1h]}] Volumes:[{Volume:{Name:fs VolumeSource:{HostPath:nil EmptyDir:nil GCEPersistentDisk:nil AWSElasticBlockStore:nil GitRepo:nil Secret:nil NFS:nil ISCSI:nil Glusterfs:nil PersistentVolumeClaim:nil RBD:nil FlexVolume:&FlexVolumeSource{Driver:v3io/fuse,FSType:,SecretRef:nil,ReadOnly:false,Options:map[string]string{accessKey: 275eeda5-5d83-427e-adda-ddb469370fb5,container: users,subPath: /admin,},} Cinder:nil CephFS:nil Flocker:nil DownwardAPI:nil FC:nil AzureFile:nil ConfigMap:nil VsphereVolume:nil Quobyte:nil AzureDisk:nil PhotonPersistentDisk:nil Projected:nil PortworxVolume:nil ScaleIO:nil StorageOS:nil}} VolumeMount:{Name:fs ReadOnly:false MountPath:User SubPath: MountPropagation:<nil>}}] Version:-1 Alias:latest Build:{Path: FunctionSourceCode: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 FunctionConfigPath: TempDir: Registry:docker-registry.default-tenant.app.spjxothqybjz.iguazio-cd2.com:80 Image: NoBaseImagesPull:true NoCache:false NoCleanup:false BaseImage:python:3.6-jessie Commands:[pip install pyyaml pip install pyarrow pip install pandas pip install v3io_frames --upgrade pip install scikit-learn==0.20.1 pip install xgboost --upgrade pip install dask[\\\"complete\\\"] --upgrade pip install dask-ml[\\\"complete\\\"] --upgrade] Directives:map[] ScriptPaths:[] AddedObjectPaths:map[] Dependencies:[] OnbuildImage: Offline:true RuntimeAttributes:map[] CodeEntryType:sourceCode CodeEntryAttributes:map[] Timestamp:1577177316 Mode:} RunRegistry:docker-registry.default-tenant.app.spjxothqybjz.iguazio-cd2.com:80 RuntimeAttributes:map[] LoggerSinks:[] DealerURI: Platform:{Attributes:map[]} ReadinessTimeoutSeconds:0 Avatar: ServiceType:NodePort ImagePullPolicy: ServiceAccount: EventTimeout:}} PlatformConfig:<nil>} || platformConfig=&{Kind:kube WebAdmin:{Enabled:<nil> ListenAddress:} HealthCheck:{Enabled:<nil> ListenAddress:} Logger:{Sinks:map[myStdoutLoggerSink:{Kind:stdout URL: Attributes:map[encoding:json timeFieldEncoding:iso8601 timeFieldName:time varGroupName:more]}] System:[{Level:debug Sink:myStdoutLoggerSink}] Functions:[{Level:debug Sink:myStdoutLoggerSink}]} Metrics:{Sinks:map[myPrometheusPull:{Enabled:<nil> Kind:prometheusPull URL: Attributes:map[]}] System:[myPrometheusPull] Functions:[myPrometheusPull]} ScaleToZero:{MetricName:nuclio_processor_handled_events_total WindowSize:10m PollerInterval:10s ScalerInterval:1m} AutoScale:{MetricName: TargetValue:20} FunctionAugmentedConfigs:[]}\"\n",
      "\"level\":\"debug\",\"time\":\"2019-12-24T08:53:07.550Z\",\"name\":\"processor.cron\",\"message\":\"Creating worker pool\",\"more\":\"num=1\"\n",
      "\"level\":\"debug\",\"time\":\"2019-12-24T08:53:07.550Z\",\"name\":\"processor.cron.w0.python.logger\",\"message\":\"Creating listener socket\",\"more\":\"path=/tmp/nuclio-rpc-bo0t3svsnb0g00a5id9g.sock\"\n",
      "\"level\":\"debug\",\"time\":\"2019-12-24T08:53:07.550Z\",\"name\":\"processor.cron.w0.python.logger\",\"message\":\"Using Python wrapper script path\",\"more\":\"path=/opt/nuclio/_nuclio_wrapper.py\"\n",
      "\"level\":\"debug\",\"time\":\"2019-12-24T08:53:07.550Z\",\"name\":\"processor.cron.w0.python.logger\",\"message\":\"Using Python handler\",\"more\":\"handler=nuclio-training:handler\"\n",
      "\"level\":\"debug\",\"time\":\"2019-12-24T08:53:07.550Z\",\"name\":\"processor.cron.w0.python.logger\",\"message\":\"Using Python executable\",\"more\":\"path=/usr/local/bin/python3\"\n",
      "\"level\":\"debug\",\"time\":\"2019-12-24T08:53:07.550Z\",\"name\":\"processor.cron.w0.python.logger\",\"message\":\"Setting PYTHONPATH\",\"more\":\"value=PYTHONPATH=/opt/nuclio\"\n",
      "\"level\":\"debug\",\"time\":\"2019-12-24T08:53:07.550Z\",\"name\":\"processor.cron.w0.python.logger\",\"message\":\"Running wrapper\",\"more\":\"command=/usr/local/bin/python3 -u /opt/nuclio/_nuclio_wrapper.py --handler nuclio-training:handler --socket-path /tmp/nuclio-rpc-bo0t3svsnb0g00a5id9g.sock --platform-kind kube --namespace default-tenant --worker-id 0 --trigger-name \"}Python> 2019-12-24 08:53:08,849 [warning] Caught unhandled exception while initializing: {'err': \"XGBoost Library (libxgboost.so) could not be loaded.\n",
      "Likely causes:\n",
      "  * OpenMP runtime is not installed (vcomp140.dll or libgomp-1.dll for Windows, libgomp.so for UNIX-like OSes)\n",
      "  * You are running 32-bit Python on a 64-bit OS\n",
      "Error message(s): ['dlopen: cannot load any more object with static TLS', 'dlopen: cannot load any more object with static TLS']\n",
      "\", 'traceback': 'Traceback (most recent call last):\n",
      "  File \"/opt/nuclio/_nuclio_wrapper.py\", line 314, in run_wrapper\n",
      "    args.trigger_name)\n",
      "  File \"/opt/nuclio/_nuclio_wrapper.py\", line 51, in __init__\n",
      "    self._entrypoint = self._load_entrypoint_from_handler(handler)\n",
      "  File \"/opt/nuclio/_nuclio_wrapper.py\", line 227, in _load_entrypoint_from_handler\n",
      "    module = __import__(module_name)\n",
      "  File \"/opt/nuclio/nuclio-training.py\", line 17, in <module>\n",
      "    import xgboost as xgb\n",
      "  File \"/usr/local/lib/python3.6/site-packages/xgboost/__init__.py\", line 11, in <module>\n",
      "    from .core import DMatrix, Booster\n",
      "  File \"/usr/local/lib/python3.6/site-packages/xgboost/core.py\", line 161, in <module>\n",
      "    _LIB = _load_lib()\n",
      "  File \"/usr/local/lib/python3.6/site-packages/xgboost/core.py\", line 152, in _load_lib\n",
      "    \\'Error message(s): {}\\\n",
      "\\'.format(os_error_list))\n",
      "xgboost.core.XGBoostError: XGBoost Library (libxgboost.so) could not be loaded.\n",
      "Likely causes:\n",
      "  * OpenMP runtime is not installed (vcomp140.dll or libgomp-1.dll for Windows, libgomp.so for UNIX-like OSes)\n",
      "  * You are running 32-bit Python on a 64-bit OS\n",
      "Error message(s): [\\'dlopen: cannot load any more object with static TLS\\', \\'dlopen: cannot load any more object with static TLS\\']\n",
      "\n",
      "'}\n",
      "* training-7fb589bc59-4k6mm\n",
      "{\"level\":\"debug\",\"time\":\"2019-12-24T08:55:44.033Z\",\"name\":\"processor\",\"message\":\"Read configuration\",\"more\":\"config=&{Config:{Meta:{Name:training Namespace:default-tenant Labels:map[] Annotations:map[nuclio.io/generated_by:function generated at 24-12-2019 by admin from nuclio-training.ipynb]} Spec:{Description: Disabled:false Publish:false Handler:nuclio-training:handler Runtime:python:3.6 Env:[{Name:V3IO_FRAMESD Value:framesd.default-tenant.svc:8080 ValueFrom:nil} {Name:V3IO_USERNAME Value:admin ValueFrom:nil} {Name:V3IO_ACCESS_KEY Value:275eeda5-5d83-427e-adda-ddb469370fb5 ValueFrom:nil} {Name:V3IO_API Value:v3io-webapi.default-tenant.svc:8081 ValueFrom:nil} {Name:FEATURES_TABLE Value:/v3io/bigdata/netops_features_parquet ValueFrom:nil} {Name:FROM_TSDB Value:0 ValueFrom:nil} {Name:TRAIN_ON_LAST Value:1d ValueFrom:nil} {Name:TRAIN_SIZE Value:0.7 ValueFrom:nil} {Name:NUMBER_OF_SHARDS Value:4 ValueFrom:nil} {Name:MODEL_FILENAME Value:netops.v3.model ValueFrom:nil} {Name:SAVE_TO Value:/v3io/bigdata/netops/models ValueFrom:nil}] Resources:{Limits:map[] Requests:map[]} Image:docker-registry.default-tenant.app.spjxothqybjz.iguazio-cd2.com:80/nuclio/processor-training:latest ImageHash:1577177605220368167 Replicas:<nil> MinReplicas:<nil> MaxReplicas:<nil> TargetCPU:0 DataBindings:map[] Triggers:map[retrain:{Class: Kind:cron Disabled:false MaxWorkers:0 URL: Paths:[] Username: Password: Secret: Partitions:[] Annotations:map[] WorkerAvailabilityTimeoutMilliseconds:0 WorkerAllocatorName: TotalTasks:0 MaxTaskAllocation:0 Attributes:map[interval:1h]}] Volumes:[{Volume:{Name:fs VolumeSource:{HostPath:nil EmptyDir:nil GCEPersistentDisk:nil AWSElasticBlockStore:nil GitRepo:nil Secret:nil NFS:nil ISCSI:nil Glusterfs:nil PersistentVolumeClaim:nil RBD:nil FlexVolume:&FlexVolumeSource{Driver:v3io/fuse,FSType:,SecretRef:nil,ReadOnly:false,Options:map[string]string{accessKey: 275eeda5-5d83-427e-adda-ddb469370fb5,container: users,subPath: /admin,},} Cinder:nil CephFS:nil Flocker:nil DownwardAPI:nil FC:nil AzureFile:nil ConfigMap:nil VsphereVolume:nil Quobyte:nil AzureDisk:nil PhotonPersistentDisk:nil Projected:nil PortworxVolume:nil ScaleIO:nil StorageOS:nil}} VolumeMount:{Name:fs ReadOnly:false MountPath:User SubPath: MountPropagation:<nil>}}] Version:-1 Alias:latest Build:{Path: FunctionSourceCode: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 FunctionConfigPath: TempDir: Registry:docker-registry.default-tenant.app.spjxothqybjz.iguazio-cd2.com:80 Image: NoBaseImagesPull:true NoCache:false NoCleanup:false BaseImage:python:3.6-jessie Commands:[pip install pyyaml pip install pyarrow pip install pandas pip install v3io_frames --upgrade pip install scikit-learn==0.20.1 pip install xgboost==0.90 --upgrade pip install dask[\\\"complete\\\"] --upgrade pip install dask-ml[\\\"complete\\\"] --upgrade] Directives:map[] ScriptPaths:[] AddedObjectPaths:map[] Dependencies:[] OnbuildImage: Offline:true RuntimeAttributes:map[] CodeEntryType:sourceCode CodeEntryAttributes:map[] Timestamp:1577177692 Mode:} RunRegistry:docker-registry.default-tenant.app.spjxothqybjz.iguazio-cd2.com:80 RuntimeAttributes:map[] LoggerSinks:[] DealerURI: Platform:{Attributes:map[]} ReadinessTimeoutSeconds:0 Avatar: ServiceType:NodePort ImagePullPolicy: ServiceAccount: EventTimeout:}} PlatformConfig:<nil>} || platformConfig=&{Kind:kube WebAdmin:{Enabled:<nil> ListenAddress:} HealthCheck:{Enabled:<nil> ListenAddress:} Logger:{Sinks:map[myStdoutLoggerSink:{Kind:stdout URL: Attributes:map[encoding:json timeFieldEncoding:iso8601 timeFieldName:time varGroupName:more]}] System:[{Level:debug Sink:myStdoutLoggerSink}] Functions:[{Level:debug Sink:myStdoutLoggerSink}]} Metrics:{Sinks:map[myPrometheusPull:{Enabled:<nil> Kind:prometheusPull URL: Attributes:map[]}] System:[myPrometheusPull] Functions:[myPrometheusPull]} ScaleToZero:{MetricName:nuclio_processor_handled_events_total WindowSize:10m PollerInterval:10s ScalerInterval:1m} AutoScale:{MetricName: TargetValue:20} FunctionAugmentedConfigs:[]}\"\n",
      "\"level\":\"debug\",\"time\":\"2019-12-24T08:55:44.033Z\",\"name\":\"processor.cron\",\"message\":\"Creating worker pool\",\"more\":\"num=1\"\n",
      "\"level\":\"debug\",\"time\":\"2019-12-24T08:55:44.033Z\",\"name\":\"processor.cron.w0.python.logger\",\"message\":\"Creating listener socket\",\"more\":\"path=/tmp/nuclio-rpc-bo0t543c2aqg00c66akg.sock\"\n",
      "\"level\":\"debug\",\"time\":\"2019-12-24T08:55:44.033Z\",\"name\":\"processor.cron.w0.python.logger\",\"message\":\"Using Python wrapper script path\",\"more\":\"path=/opt/nuclio/_nuclio_wrapper.py\"\n",
      "\"level\":\"debug\",\"time\":\"2019-12-24T08:55:44.034Z\",\"name\":\"processor.cron.w0.python.logger\",\"message\":\"Using Python handler\",\"more\":\"handler=nuclio-training:handler\"\n",
      "\"level\":\"debug\",\"time\":\"2019-12-24T08:55:44.034Z\",\"name\":\"processor.cron.w0.python.logger\",\"message\":\"Using Python executable\",\"more\":\"path=/usr/local/bin/python3\"\n",
      "\"level\":\"debug\",\"time\":\"2019-12-24T08:55:44.034Z\",\"name\":\"processor.cron.w0.python.logger\",\"message\":\"Setting PYTHONPATH\",\"more\":\"value=PYTHONPATH=/opt/nuclio\"\n",
      "\"level\":\"debug\",\"time\":\"2019-12-24T08:55:44.034Z\",\"name\":\"processor.cron.w0.python.logger\",\"message\":\"Running wrapper\",\"more\":\"command=/usr/local/bin/python3 -u /opt/nuclio/_nuclio_wrapper.py --handler nuclio-training:handler --socket-path /tmp/nuclio-rpc-bo0t543c2aqg00c66akg.sock --platform-kind kube --namespace default-tenant --worker-id 0 --trigger-name \"}Python> 2019-12-24 08:55:45,342 [warning] Caught unhandled exception while initializing: {'err': \"XGBoost Library (libxgboost.so) could not be loaded.\n",
      "Likely causes:\n",
      "  * OpenMP runtime is not installed (vcomp140.dll or libgomp-1.dll for Windows, libgomp.so for UNIX-like OSes)\n",
      "  * You are running 32-bit Python on a 64-bit OS\n",
      "Error message(s): ['dlopen: cannot load any more object with static TLS', 'dlopen: cannot load any more object with static TLS']\n",
      "\", 'traceback': 'Traceback (most recent call last):\n",
      "  File \"/opt/nuclio/_nuclio_wrapper.py\", line 314, in run_wrapper\n",
      "    args.trigger_name)\n",
      "  File \"/opt/nuclio/_nuclio_wrapper.py\", line 51, in __init__\n",
      "    self._entrypoint = self._load_entrypoint_from_handler(handler)\n",
      "  File \"/opt/nuclio/_nuclio_wrapper.py\", line 227, in _load_entrypoint_from_handler\n",
      "    module = __import__(module_name)\n",
      "  File \"/opt/nuclio/nuclio-training.py\", line 17, in <module>\n",
      "    import xgboost as xgb\n",
      "  File \"/usr/local/lib/python3.6/site-packages/xgboost/__init__.py\", line 11, in <module>\n",
      "    from .core import DMatrix, Booster\n",
      "  File \"/usr/local/lib/python3.6/site-packages/xgboost/core.py\", line 161, in <module>\n",
      "    _LIB = _load_lib()\n",
      "  File \"/usr/local/lib/python3.6/site-packages/xgboost/core.py\", line 152, in _load_lib\n",
      "    \\'Error message(s): {}\\\n",
      "\\'.format(os_error_list))\n",
      "xgboost.core.XGBoostError: XGBoost Library (libxgboost.so) could not be loaded.\n",
      "Likely causes:\n",
      "  * OpenMP runtime is not installed (vcomp140.dll or libgomp-1.dll for Windows, libgomp.so for UNIX-like OSes)\n",
      "  * You are running 32-bit Python on a 64-bit OS\n",
      "Error message(s): [\\'dlopen: cannot load any more object with static TLS\\', \\'dlopen: cannot load any more object with static TLS\\']\n",
      "\n",
      "'}\n"
     ]
    },
    {
     "ename": "DeployError",
     "evalue": "cannot deploy ",
     "output_type": "error",
     "traceback": [
      "\u001b[0;31m---------------------------------------------------------------------------\u001b[0m",
      "\u001b[0;31mDeployError\u001b[0m                               Traceback (most recent call last)",
      "\u001b[0;32m<ipython-input-95-efb94bfb9862>\u001b[0m in \u001b[0;36m<module>\u001b[0;34m\u001b[0m\n\u001b[0;32m----> 1\u001b[0;31m \u001b[0mtraining_fn\u001b[0m\u001b[0;34m.\u001b[0m\u001b[0mdeploy\u001b[0m\u001b[0;34m(\u001b[0m\u001b[0mproject\u001b[0m\u001b[0;34m=\u001b[0m\u001b[0;34m'netops'\u001b[0m\u001b[0;34m)\u001b[0m\u001b[0;34m\u001b[0m\u001b[0;34m\u001b[0m\u001b[0m\n\u001b[0m",
      "\u001b[0;32m~/.pythonlibs/lib/python3.6/site-packages/mlrun/runtimes/function.py\u001b[0m in \u001b[0;36mdeploy\u001b[0;34m(self, dashboard, project, tag, kind)\u001b[0m\n\u001b[1;32m    254\u001b[0m                 \u001b[0mconfig\u001b[0m\u001b[0;34m,\u001b[0m \u001b[0mdashboard\u001b[0m\u001b[0;34m,\u001b[0m \u001b[0mname\u001b[0m\u001b[0;34m=\u001b[0m\u001b[0mself\u001b[0m\u001b[0;34m.\u001b[0m\u001b[0mmetadata\u001b[0m\u001b[0;34m.\u001b[0m\u001b[0mname\u001b[0m\u001b[0;34m,\u001b[0m\u001b[0;34m\u001b[0m\u001b[0;34m\u001b[0m\u001b[0m\n\u001b[1;32m    255\u001b[0m                 \u001b[0mproject\u001b[0m\u001b[0;34m=\u001b[0m\u001b[0mproject\u001b[0m\u001b[0;34m,\u001b[0m \u001b[0mtag\u001b[0m\u001b[0;34m=\u001b[0m\u001b[0mtag\u001b[0m\u001b[0;34m,\u001b[0m \u001b[0mverbose\u001b[0m\u001b[0;34m=\u001b[0m\u001b[0mself\u001b[0m\u001b[0;34m.\u001b[0m\u001b[0mverbose\u001b[0m\u001b[0;34m,\u001b[0m\u001b[0;34m\u001b[0m\u001b[0;34m\u001b[0m\u001b[0m\n\u001b[0;32m--> 256\u001b[0;31m                 create_new=True)\n\u001b[0m\u001b[1;32m    257\u001b[0m         \u001b[0;32melse\u001b[0m\u001b[0;34m:\u001b[0m\u001b[0;34m\u001b[0m\u001b[0;34m\u001b[0m\u001b[0m\n\u001b[1;32m    258\u001b[0m \u001b[0;34m\u001b[0m\u001b[0m\n",
      "\u001b[0;32m/conda/lib/python3.6/site-packages/nuclio/deploy.py\u001b[0m in \u001b[0;36mdeploy_config\u001b[0;34m(config, dashboard_url, name, project, tag, verbose, create_new)\u001b[0m\n\u001b[1;32m    257\u001b[0m     \u001b[0;32mif\u001b[0m \u001b[0mstate\u001b[0m \u001b[0;34m!=\u001b[0m \u001b[0;34m'ready'\u001b[0m\u001b[0;34m:\u001b[0m\u001b[0;34m\u001b[0m\u001b[0;34m\u001b[0m\u001b[0m\n\u001b[1;32m    258\u001b[0m         \u001b[0mlog\u001b[0m\u001b[0;34m(\u001b[0m\u001b[0;34m'ERROR: {}'\u001b[0m\u001b[0;34m.\u001b[0m\u001b[0mformat\u001b[0m\u001b[0;34m(\u001b[0m\u001b[0mresp\u001b[0m\u001b[0;34m.\u001b[0m\u001b[0mtext\u001b[0m\u001b[0;34m)\u001b[0m\u001b[0;34m)\u001b[0m\u001b[0;34m\u001b[0m\u001b[0;34m\u001b[0m\u001b[0m\n\u001b[0;32m--> 259\u001b[0;31m         \u001b[0;32mraise\u001b[0m \u001b[0mDeployError\u001b[0m\u001b[0;34m(\u001b[0m\u001b[0;34m'cannot deploy '\u001b[0m \u001b[0;34m+\u001b[0m \u001b[0mresp\u001b[0m\u001b[0;34m.\u001b[0m\u001b[0mtext\u001b[0m\u001b[0;34m)\u001b[0m\u001b[0;34m\u001b[0m\u001b[0;34m\u001b[0m\u001b[0m\n\u001b[0m\u001b[1;32m    260\u001b[0m \u001b[0;34m\u001b[0m\u001b[0m\n\u001b[1;32m    261\u001b[0m     \u001b[0mlogger\u001b[0m\u001b[0;34m.\u001b[0m\u001b[0minfo\u001b[0m\u001b[0;34m(\u001b[0m\u001b[0;34m'done %s %s, function address: %s'\u001b[0m\u001b[0;34m,\u001b[0m \u001b[0mverb\u001b[0m\u001b[0;34m,\u001b[0m \u001b[0mname\u001b[0m\u001b[0;34m,\u001b[0m \u001b[0maddress\u001b[0m\u001b[0;34m)\u001b[0m\u001b[0;34m\u001b[0m\u001b[0;34m\u001b[0m\u001b[0m\n",
      "\u001b[0;31mDeployError\u001b[0m: cannot deploy "
     ]
    }
   ],
   "source": [
    "training_fn.deploy(project='netops')"
   ]
  },
  {
   "cell_type": "code",
   "execution_count": null,
   "metadata": {},
   "outputs": [],
   "source": [
    "inference_fn = code_to_function(name='inference',\n",
    "                                runtime='nuclio',\n",
    "                                filename='nuclio-inference.ipynb')\n",
    "inference_fn.add_volume('User','~/')"
   ]
  },
  {
   "cell_type": "code",
   "execution_count": null,
   "metadata": {},
   "outputs": [],
   "source": [
    "inference_fn.deploy(project='netops')"
   ]
  },
  {
   "cell_type": "markdown",
   "metadata": {},
   "source": [
    "## Create and run the pipeline"
   ]
  },
  {
   "cell_type": "code",
   "execution_count": 23,
   "metadata": {},
   "outputs": [],
   "source": [
    "import kfp\n",
    "from kfp import dsl"
   ]
  },
  {
   "cell_type": "code",
   "execution_count": 24,
   "metadata": {},
   "outputs": [],
   "source": [
    "artifacts_path = 'v3io:///users/admin/mlrun-db/kfp/{{workflow.uid}}/'"
   ]
  },
  {
   "cell_type": "code",
   "execution_count": 41,
   "metadata": {},
   "outputs": [],
   "source": [
    "@dsl.pipeline(\n",
    "    name='Network Operations Training Pipeline',\n",
    "    description='Network operations E2E pipeline'\n",
    ")\n",
    "def netops_pipepline(\n",
    "    use_tsdb = 0,\n",
    "    metrics_configuration_file = os.path.join(os.getcwd(), \n",
    "                                              'configurations', \n",
    "                                              'metrics-configuration.yaml'),\n",
    "    deployment_table = 'netops-deployment',\n",
    "    metrics_table = '/User/v3io/bigdata/netops_metrics_parquet',\n",
    "    features_table = '/User/v3io/bigdata/netops_features_parquet',\n",
    "    predictions_table = '/User/v3io/bigdata/netops_predictions_parquet',\n",
    "    initial_timestamp = str(int((datetime.datetime.now()-\n",
    "                                 datetime.timedelta(days=1)).timestamp())),\n",
    "    secs_to_generate = 60*60*60,\n",
    "    number_of_shards = 4,\n",
    "    train_on_last = '1d',\n",
    "    train_size = 0.7,\n",
    "):\n",
    "    \n",
    "    envs = {\n",
    "        # Use TSDB / Parquet\n",
    "        'from_tsdb': use_tsdb,\n",
    "        \n",
    "        # Tables\n",
    "        'metrics_table': metrics_table,\n",
    "        'features_table': features_table,\n",
    "        'predictions_table': predictions_table,\n",
    "        \n",
    "        # Data generation\n",
    "        'initial_timestamp': initial_timestamp,\n",
    "        'secs_to_generate': secs_to_generate,\n",
    "        \n",
    "        # Preprocessing\n",
    "        'number_of_shards': number_of_shards,\n",
    "        \n",
    "        # Training\n",
    "        'train_on_last': train_on_last,\n",
    "        'train_size': train_size,\n",
    "    }\n",
    "    print(envs)\n",
    "    \n",
    "    for k, v in envs.items():\n",
    "        generator_fn.set_env(k, v)\n",
    "        \n",
    "    generator = generator_fn.as_step(name='generator')"
   ]
  },
  {
   "cell_type": "code",
   "execution_count": 42,
   "metadata": {},
   "outputs": [
    {
     "name": "stdout",
     "output_type": "stream",
     "text": [
      "{'from_tsdb': {{pipelineparam:op=;name=use_tsdb}}, 'metrics_table': {{pipelineparam:op=;name=metrics_table}}, 'features_table': {{pipelineparam:op=;name=features_table}}, 'predictions_table': {{pipelineparam:op=;name=predictions_table}}, 'initial_timestamp': {{pipelineparam:op=;name=initial_timestamp}}, 'secs_to_generate': {{pipelineparam:op=;name=secs_to_generate}}, 'number_of_shards': {{pipelineparam:op=;name=number_of_shards}}, 'train_on_last': {{pipelineparam:op=;name=train_on_last}}, 'train_size': {{pipelineparam:op=;name=train_size}}}\n"
     ]
    },
    {
     "data": {
      "text/html": [
       "Experiment link <a href=\"https://dashboard.default-tenant.app.spjxothqybjz.iguazio-cd2.com/pipelines//#/experiments/details/dfa7965c-cfcb-4c1d-a8de-d5b3af16864d\" target=\"_blank\" >here</a>"
      ],
      "text/plain": [
       "<IPython.core.display.HTML object>"
      ]
     },
     "metadata": {},
     "output_type": "display_data"
    },
    {
     "data": {
      "text/html": [
       "Run link <a href=\"https://dashboard.default-tenant.app.spjxothqybjz.iguazio-cd2.com/pipelines//#/runs/details/6b2647cc-2f62-4ec8-97d1-72aee5f98ae2\" target=\"_blank\" >here</a>"
      ],
      "text/plain": [
       "<IPython.core.display.HTML object>"
      ]
     },
     "metadata": {},
     "output_type": "display_data"
    }
   ],
   "source": [
    "client = kfp.Client(namespace='default-tenant')\n",
    "arguments = {}\n",
    "run_result = client.create_run_from_pipeline_func(netops_pipepline, \n",
    "                                                  arguments, \n",
    "                                                  experiment_name='netops-mlrun')"
   ]
  },
  {
   "cell_type": "code",
   "execution_count": null,
   "metadata": {},
   "outputs": [],
   "source": []
  }
 ],
 "metadata": {
  "kernelspec": {
   "display_name": "Python 3",
   "language": "python",
   "name": "python3"
  },
  "language_info": {
   "codemirror_mode": {
    "name": "ipython",
    "version": 3
   },
   "file_extension": ".py",
   "mimetype": "text/x-python",
   "name": "python",
   "nbconvert_exporter": "python",
   "pygments_lexer": "ipython3",
   "version": "3.6.8"
  }
 },
 "nbformat": 4,
 "nbformat_minor": 4
}
